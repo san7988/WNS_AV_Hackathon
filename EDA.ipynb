{
 "cells": [
  {
   "cell_type": "code",
   "execution_count": 180,
   "metadata": {},
   "outputs": [],
   "source": [
    "import pandas as pd\n",
    "# import pandas_profiling as pp\n",
    "# from pandas.tseries.holiday import \n",
    "import matplotlib.pyplot as plt\n",
    "%matplotlib inline"
   ]
  },
  {
   "cell_type": "code",
   "execution_count": 177,
   "metadata": {},
   "outputs": [
    {
     "data": {
      "text/plain": [
       "(90675, 6)"
      ]
     },
     "execution_count": 177,
     "metadata": {},
     "output_type": "execute_result"
    }
   ],
   "source": [
    "test_df = pd.read_csv(\"./test.csv\")\n",
    "test_df.shape"
   ]
  },
  {
   "cell_type": "code",
   "execution_count": 191,
   "metadata": {},
   "outputs": [
    {
     "data": {
      "text/html": [
       "<div>\n",
       "<style scoped>\n",
       "    .dataframe tbody tr th:only-of-type {\n",
       "        vertical-align: middle;\n",
       "    }\n",
       "\n",
       "    .dataframe tbody tr th {\n",
       "        vertical-align: top;\n",
       "    }\n",
       "\n",
       "    .dataframe thead th {\n",
       "        text-align: right;\n",
       "    }\n",
       "</style>\n",
       "<table border=\"1\" class=\"dataframe\">\n",
       "  <thead>\n",
       "    <tr style=\"text-align: right;\">\n",
       "      <th></th>\n",
       "      <th>impression_id</th>\n",
       "      <th>impression_time</th>\n",
       "      <th>user_id</th>\n",
       "      <th>app_code</th>\n",
       "      <th>os_version</th>\n",
       "      <th>is_4G</th>\n",
       "    </tr>\n",
       "  </thead>\n",
       "  <tbody>\n",
       "    <tr>\n",
       "      <th>14</th>\n",
       "      <td>85b73c10a8fba7060054d48d542279d6</td>\n",
       "      <td>2018-12-13 07:55:00</td>\n",
       "      <td>66927</td>\n",
       "      <td>318</td>\n",
       "      <td>latest</td>\n",
       "      <td>0</td>\n",
       "    </tr>\n",
       "  </tbody>\n",
       "</table>\n",
       "</div>"
      ],
      "text/plain": [
       "                       impression_id      impression_time  user_id  app_code  \\\n",
       "14  85b73c10a8fba7060054d48d542279d6  2018-12-13 07:55:00    66927       318   \n",
       "\n",
       "   os_version  is_4G  \n",
       "14     latest      0  "
      ]
     },
     "execution_count": 191,
     "metadata": {},
     "output_type": "execute_result"
    }
   ],
   "source": [
    "test_df[test_df[\"impression_id\"]==\"85b73c10a8fba7060054d48d542279d6\"]"
   ]
  },
  {
   "cell_type": "code",
   "execution_count": 178,
   "metadata": {},
   "outputs": [],
   "source": [
    "item_df = pd.read_csv(\"./item_data.csv\")"
   ]
  },
  {
   "cell_type": "code",
   "execution_count": 185,
   "metadata": {},
   "outputs": [
    {
     "data": {
      "text/plain": [
       "2944.0"
      ]
     },
     "execution_count": 185,
     "metadata": {},
     "output_type": "execute_result"
    }
   ],
   "source": [
    "item_df.item_price.median()"
   ]
  },
  {
   "cell_type": "code",
   "execution_count": 186,
   "metadata": {},
   "outputs": [
    {
     "data": {
      "text/plain": [
       "9     17343\n",
       "17    16306\n",
       "1     15404\n",
       "4     11892\n",
       "11    10386\n",
       "13     9616\n",
       "7      9050\n",
       "8      8147\n",
       "14     7838\n",
       "10     6697\n",
       "12     5472\n",
       "16     5139\n",
       "0      4961\n",
       "15     3200\n",
       "6      1307\n",
       "2         2\n",
       "5         1\n",
       "Name: category_1, dtype: int64"
      ]
     },
     "execution_count": 186,
     "metadata": {},
     "output_type": "execute_result"
    }
   ],
   "source": [
    "item_df.category_1.value_counts()"
   ]
  },
  {
   "cell_type": "code",
   "execution_count": 189,
   "metadata": {
    "scrolled": false
   },
   "outputs": [
    {
     "data": {
      "text/plain": [
       "38    6307\n",
       "39    5940\n",
       "8     5897\n",
       "42    5469\n",
       "57    5041\n",
       "Name: category_2, dtype: int64"
      ]
     },
     "execution_count": 189,
     "metadata": {},
     "output_type": "execute_result"
    }
   ],
   "source": [
    "item_df.category_2.value_counts()[:5]"
   ]
  },
  {
   "cell_type": "code",
   "execution_count": 188,
   "metadata": {},
   "outputs": [
    {
     "data": {
      "text/plain": [
       "62     6065\n",
       "292    4174\n",
       "114    2910\n",
       "151    2719\n",
       "84     2707\n",
       "Name: category_3, dtype: int64"
      ]
     },
     "execution_count": 188,
     "metadata": {},
     "output_type": "execute_result"
    }
   ],
   "source": [
    "item_df.category_3.value_counts()[:5]"
   ]
  },
  {
   "cell_type": "code",
   "execution_count": 190,
   "metadata": {},
   "outputs": [
    {
     "data": {
      "text/plain": [
       "2874     4261\n",
       "5622     1417\n",
       "5036     1262\n",
       "10412     990\n",
       "7791      980\n",
       "Name: product_type, dtype: int64"
      ]
     },
     "execution_count": 190,
     "metadata": {},
     "output_type": "execute_result"
    }
   ],
   "source": [
    "item_df.product_type.value_counts()[:5]"
   ]
  },
  {
   "cell_type": "code",
   "execution_count": 184,
   "metadata": {},
   "outputs": [
    {
     "data": {
      "text/html": [
       "<div>\n",
       "<style scoped>\n",
       "    .dataframe tbody tr th:only-of-type {\n",
       "        vertical-align: middle;\n",
       "    }\n",
       "\n",
       "    .dataframe tbody tr th {\n",
       "        vertical-align: top;\n",
       "    }\n",
       "\n",
       "    .dataframe thead th {\n",
       "        text-align: right;\n",
       "    }\n",
       "</style>\n",
       "<table border=\"1\" class=\"dataframe\">\n",
       "  <thead>\n",
       "    <tr style=\"text-align: right;\">\n",
       "      <th></th>\n",
       "      <th>item_id</th>\n",
       "      <th>item_price</th>\n",
       "      <th>category_1</th>\n",
       "      <th>category_2</th>\n",
       "      <th>category_3</th>\n",
       "      <th>product_type</th>\n",
       "    </tr>\n",
       "  </thead>\n",
       "  <tbody>\n",
       "  </tbody>\n",
       "</table>\n",
       "</div>"
      ],
      "text/plain": [
       "Empty DataFrame\n",
       "Columns: [item_id, item_price, category_1, category_2, category_3, product_type]\n",
       "Index: []"
      ]
     },
     "execution_count": 184,
     "metadata": {},
     "output_type": "execute_result"
    }
   ],
   "source": [
    "item_df[item_df[\"item_id\"]==103132]"
   ]
  },
  {
   "cell_type": "code",
   "execution_count": 62,
   "metadata": {},
   "outputs": [],
   "source": [
    "log_df = pd.read_csv(\"./view_log.csv\")"
   ]
  },
  {
   "cell_type": "code",
   "execution_count": 63,
   "metadata": {},
   "outputs": [
    {
     "data": {
      "text/plain": [
       "array([ 4557, 74788, 23628, ...,  5127, 77576,  4925])"
      ]
     },
     "execution_count": 63,
     "metadata": {},
     "output_type": "execute_result"
    }
   ],
   "source": [
    "log_df.user_id.unique()"
   ]
  },
  {
   "cell_type": "code",
   "execution_count": 60,
   "metadata": {},
   "outputs": [
    {
     "data": {
      "text/plain": [
       "server_time    2018-11-06 22:38:00\n",
       "device_type                android\n",
       "session_id                  986463\n",
       "user_id                      23628\n",
       "item_id                     112395\n",
       "Name: 1132232, dtype: object"
      ]
     },
     "execution_count": 60,
     "metadata": {},
     "output_type": "execute_result"
    }
   ],
   "source": [
    "import numpy as np\n",
    "a.iloc[(np.searchsorted(a.server_time.values, \"2018-11-01 08:55:00\"))]"
   ]
  },
  {
   "cell_type": "code",
   "execution_count": null,
   "metadata": {},
   "outputs": [],
   "source": []
  },
  {
   "cell_type": "code",
   "execution_count": null,
   "metadata": {},
   "outputs": [],
   "source": []
  },
  {
   "cell_type": "code",
   "execution_count": 152,
   "metadata": {},
   "outputs": [],
   "source": [
    "train_df = pd.read_csv(\"./train.csv\")"
   ]
  },
  {
   "cell_type": "code",
   "execution_count": 153,
   "metadata": {},
   "outputs": [],
   "source": [
    "# train_df = train_df.iloc[:100]"
   ]
  },
  {
   "cell_type": "code",
   "execution_count": 154,
   "metadata": {},
   "outputs": [
    {
     "data": {
      "text/plain": [
       "(74723,)"
      ]
     },
     "execution_count": 154,
     "metadata": {},
     "output_type": "execute_result"
    }
   ],
   "source": [
    "train_df.user_id.unique().shape"
   ]
  },
  {
   "cell_type": "code",
   "execution_count": 155,
   "metadata": {},
   "outputs": [],
   "source": [
    "# train_df.groupby([\"impression_time\", \"user_id\"]).count()"
   ]
  },
  {
   "cell_type": "code",
   "execution_count": 156,
   "metadata": {},
   "outputs": [],
   "source": [
    "df1 = pd.merge(train_df,log_df, on=\"user_id\")"
   ]
  },
  {
   "cell_type": "code",
   "execution_count": 157,
   "metadata": {},
   "outputs": [
    {
     "data": {
      "text/plain": [
       "((11052882, 11), (74723,))"
      ]
     },
     "execution_count": 157,
     "metadata": {},
     "output_type": "execute_result"
    }
   ],
   "source": [
    "df1.shape, df1.user_id.unique().shape"
   ]
  },
  {
   "cell_type": "code",
   "execution_count": 158,
   "metadata": {},
   "outputs": [],
   "source": [
    "df1[\"impression_date\"] = pd.to_datetime(df1[\"impression_time\"]).dt.date\n",
    "df1[\"server_date\"] = pd.to_datetime(df1[\"server_time\"]).dt.date"
   ]
  },
  {
   "cell_type": "code",
   "execution_count": 159,
   "metadata": {},
   "outputs": [],
   "source": [
    "df1[\"diff\"] = (df1[\"impression_date\"]-df1[\"server_date\"]).dt.days"
   ]
  },
  {
   "cell_type": "code",
   "execution_count": 160,
   "metadata": {},
   "outputs": [
    {
     "data": {
      "text/plain": [
       "((11052882, 14), (74723,))"
      ]
     },
     "execution_count": 160,
     "metadata": {},
     "output_type": "execute_result"
    }
   ],
   "source": [
    "df1.shape, df1.user_id.unique().shape"
   ]
  },
  {
   "cell_type": "code",
   "execution_count": 161,
   "metadata": {
    "scrolled": true
   },
   "outputs": [],
   "source": [
    "# df1[df1[\"user_id\"]==63410]"
   ]
  },
  {
   "cell_type": "code",
   "execution_count": 162,
   "metadata": {},
   "outputs": [],
   "source": [
    "df1 = df1[df1[\"diff\"]>0]"
   ]
  },
  {
   "cell_type": "code",
   "execution_count": 137,
   "metadata": {},
   "outputs": [
    {
     "data": {
      "text/plain": [
       "(2055, 14)"
      ]
     },
     "execution_count": 137,
     "metadata": {},
     "output_type": "execute_result"
    }
   ],
   "source": [
    "df1.shape"
   ]
  },
  {
   "cell_type": "code",
   "execution_count": 163,
   "metadata": {},
   "outputs": [],
   "source": [
    "# df2 = df1.groupby([\"impression_time\", \"user_id\"]).filter(lambda x: x.diff.min())\n",
    "df1 = df1.loc[df1.groupby([\"impression_time\", \"user_id\"])[\"diff\"].idxmin()]"
   ]
  },
  {
   "cell_type": "code",
   "execution_count": 168,
   "metadata": {},
   "outputs": [
    {
     "data": {
      "text/plain": [
       "(237609, 7)"
      ]
     },
     "execution_count": 168,
     "metadata": {},
     "output_type": "execute_result"
    }
   ],
   "source": [
    "train_df.shape"
   ]
  },
  {
   "cell_type": "code",
   "execution_count": 174,
   "metadata": {},
   "outputs": [],
   "source": [
    "l = list(set(list(train_df.impression_id)) - set(list(df1.impression_id)))"
   ]
  },
  {
   "cell_type": "code",
   "execution_count": 176,
   "metadata": {},
   "outputs": [
    {
     "data": {
      "text/plain": [
       "257"
      ]
     },
     "execution_count": 176,
     "metadata": {},
     "output_type": "execute_result"
    }
   ],
   "source": [
    "count = 0\n",
    "for i in l:\n",
    "    if train_df[train_df[\"impression_id\"]==i][\"is_click\"].values[0] == 1:\n",
    "        count+=1\n",
    "count"
   ]
  },
  {
   "cell_type": "code",
   "execution_count": null,
   "metadata": {},
   "outputs": [],
   "source": [
    "# # item_id_list = []\n",
    "# # for _, row in tqdm(merged_df.iterrows()):\n",
    "# #     #date1 = row[\"impression_time\"]\n",
    "# #     item_id = log_df[(log_df[\"user_id\"]==row[\"user_id\"]) \n",
    "# #                      & (log_df[\"server_time\"]<=row[\"impression_time\"])].iloc[-1:][\"item_id\"][-1:]\n",
    "# # #     #item_id = log_df[(log_df[\"user_id\"]==row[\"user_id\"]) & (log_df[\"server_time\"]==date2)][\"item_id\"]\n",
    "# # #     price_sum = pd.merge(item_id, item_df, on=\"item_id\")[\"item_price\"].mean()\n",
    "# #     item_id_list.append(item_id)\n",
    "    \n",
    "# # # #     print(price_sum)\n",
    "# # # #     print(date1)\n",
    "# # # #     print(item_id)\n",
    "# # # #     break\n",
    "# # item_id_list\n",
    "# def get_item_id(user_id, impression_time):\n",
    "#     #print(user_id)\n",
    "#     item_id = log_df[(log_df[\"user_id\"]==user_id) \n",
    "#                      & (log_df[\"server_time\"]<=impression_time)].iloc[-1:][\"item_id\"][-1:]\n",
    "#     return item_id"
   ]
  },
  {
   "cell_type": "code",
   "execution_count": 172,
   "metadata": {},
   "outputs": [
    {
     "data": {
      "text/plain": [
       "0"
      ]
     },
     "execution_count": 172,
     "metadata": {},
     "output_type": "execute_result"
    }
   ],
   "source": [
    "train_df[train_df[\"impression_id\"]==\"6602aa0b985afb4059ebbebf05e46d76\"][\"is_click\"].values[0]"
   ]
  },
  {
   "cell_type": "code",
   "execution_count": 166,
   "metadata": {},
   "outputs": [
    {
     "data": {
      "text/html": [
       "<div>\n",
       "<style scoped>\n",
       "    .dataframe tbody tr th:only-of-type {\n",
       "        vertical-align: middle;\n",
       "    }\n",
       "\n",
       "    .dataframe tbody tr th {\n",
       "        vertical-align: top;\n",
       "    }\n",
       "\n",
       "    .dataframe thead th {\n",
       "        text-align: right;\n",
       "    }\n",
       "</style>\n",
       "<table border=\"1\" class=\"dataframe\">\n",
       "  <thead>\n",
       "    <tr style=\"text-align: right;\">\n",
       "      <th></th>\n",
       "      <th>server_time</th>\n",
       "      <th>device_type</th>\n",
       "      <th>session_id</th>\n",
       "      <th>user_id</th>\n",
       "      <th>item_id</th>\n",
       "    </tr>\n",
       "  </thead>\n",
       "  <tbody>\n",
       "    <tr>\n",
       "      <th>2171245</th>\n",
       "      <td>2018-11-25 08:49:00</td>\n",
       "      <td>android</td>\n",
       "      <td>791776</td>\n",
       "      <td>42491</td>\n",
       "      <td>33633</td>\n",
       "    </tr>\n",
       "    <tr>\n",
       "      <th>2184860</th>\n",
       "      <td>2018-11-25 14:12:00</td>\n",
       "      <td>android</td>\n",
       "      <td>574945</td>\n",
       "      <td>42491</td>\n",
       "      <td>28034</td>\n",
       "    </tr>\n",
       "    <tr>\n",
       "      <th>2205598</th>\n",
       "      <td>2018-11-25 20:53:00</td>\n",
       "      <td>android</td>\n",
       "      <td>712420</td>\n",
       "      <td>42491</td>\n",
       "      <td>105092</td>\n",
       "    </tr>\n",
       "    <tr>\n",
       "      <th>2205822</th>\n",
       "      <td>2018-11-25 20:56:00</td>\n",
       "      <td>android</td>\n",
       "      <td>712420</td>\n",
       "      <td>42491</td>\n",
       "      <td>105243</td>\n",
       "    </tr>\n",
       "    <tr>\n",
       "      <th>2249851</th>\n",
       "      <td>2018-11-26 19:30:00</td>\n",
       "      <td>android</td>\n",
       "      <td>102842</td>\n",
       "      <td>42491</td>\n",
       "      <td>114286</td>\n",
       "    </tr>\n",
       "    <tr>\n",
       "      <th>2329109</th>\n",
       "      <td>2018-11-28 20:23:00</td>\n",
       "      <td>android</td>\n",
       "      <td>267288</td>\n",
       "      <td>42491</td>\n",
       "      <td>83521</td>\n",
       "    </tr>\n",
       "    <tr>\n",
       "      <th>2329249</th>\n",
       "      <td>2018-11-28 20:25:00</td>\n",
       "      <td>android</td>\n",
       "      <td>267288</td>\n",
       "      <td>42491</td>\n",
       "      <td>105243</td>\n",
       "    </tr>\n",
       "    <tr>\n",
       "      <th>2367736</th>\n",
       "      <td>2018-11-29 20:45:00</td>\n",
       "      <td>android</td>\n",
       "      <td>247865</td>\n",
       "      <td>42491</td>\n",
       "      <td>73938</td>\n",
       "    </tr>\n",
       "    <tr>\n",
       "      <th>2758183</th>\n",
       "      <td>2018-12-06 02:01:00</td>\n",
       "      <td>android</td>\n",
       "      <td>635209</td>\n",
       "      <td>42491</td>\n",
       "      <td>105243</td>\n",
       "    </tr>\n",
       "    <tr>\n",
       "      <th>2758229</th>\n",
       "      <td>2018-12-06 02:04:00</td>\n",
       "      <td>android</td>\n",
       "      <td>635209</td>\n",
       "      <td>42491</td>\n",
       "      <td>105243</td>\n",
       "    </tr>\n",
       "    <tr>\n",
       "      <th>2848979</th>\n",
       "      <td>2018-12-07 18:34:00</td>\n",
       "      <td>android</td>\n",
       "      <td>687347</td>\n",
       "      <td>42491</td>\n",
       "      <td>21060</td>\n",
       "    </tr>\n",
       "    <tr>\n",
       "      <th>2939057</th>\n",
       "      <td>2018-12-09 12:01:00</td>\n",
       "      <td>android</td>\n",
       "      <td>862035</td>\n",
       "      <td>42491</td>\n",
       "      <td>105243</td>\n",
       "    </tr>\n",
       "    <tr>\n",
       "      <th>3045099</th>\n",
       "      <td>2018-12-10 23:10:00</td>\n",
       "      <td>android</td>\n",
       "      <td>254701</td>\n",
       "      <td>42491</td>\n",
       "      <td>2121</td>\n",
       "    </tr>\n",
       "  </tbody>\n",
       "</table>\n",
       "</div>"
      ],
      "text/plain": [
       "                 server_time device_type  session_id  user_id  item_id\n",
       "2171245  2018-11-25 08:49:00     android      791776    42491    33633\n",
       "2184860  2018-11-25 14:12:00     android      574945    42491    28034\n",
       "2205598  2018-11-25 20:53:00     android      712420    42491   105092\n",
       "2205822  2018-11-25 20:56:00     android      712420    42491   105243\n",
       "2249851  2018-11-26 19:30:00     android      102842    42491   114286\n",
       "2329109  2018-11-28 20:23:00     android      267288    42491    83521\n",
       "2329249  2018-11-28 20:25:00     android      267288    42491   105243\n",
       "2367736  2018-11-29 20:45:00     android      247865    42491    73938\n",
       "2758183  2018-12-06 02:01:00     android      635209    42491   105243\n",
       "2758229  2018-12-06 02:04:00     android      635209    42491   105243\n",
       "2848979  2018-12-07 18:34:00     android      687347    42491    21060\n",
       "2939057  2018-12-09 12:01:00     android      862035    42491   105243\n",
       "3045099  2018-12-10 23:10:00     android      254701    42491     2121"
      ]
     },
     "execution_count": 166,
     "metadata": {},
     "output_type": "execute_result"
    }
   ],
   "source": [
    "log_df[log_df[\"user_id\"]==42491]"
   ]
  },
  {
   "cell_type": "code",
   "execution_count": 41,
   "metadata": {},
   "outputs": [
    {
     "data": {
      "text/plain": [
       "Index(['server_time', 'device_type', 'session_id', 'user_id', 'item_id',\n",
       "       'item_price', 'category_1', 'category_2', 'category_3', 'product_type'],\n",
       "      dtype='object')"
      ]
     },
     "execution_count": 41,
     "metadata": {},
     "output_type": "execute_result"
    }
   ],
   "source": [
    "merge1.columns"
   ]
  },
  {
   "cell_type": "code",
   "execution_count": 55,
   "metadata": {},
   "outputs": [
    {
     "ename": "NameError",
     "evalue": "name 'reset_index' is not defined",
     "output_type": "error",
     "traceback": [
      "\u001b[0;31m---------------------------------------------------------------------------\u001b[0m",
      "\u001b[0;31mNameError\u001b[0m                                 Traceback (most recent call last)",
      "\u001b[0;32m<ipython-input-55-ffe977042afc>\u001b[0m in \u001b[0;36m<module>\u001b[0;34m()\u001b[0m\n\u001b[0;32m----> 1\u001b[0;31m \u001b[0mmerge1\u001b[0m\u001b[0;34m.\u001b[0m\u001b[0mgroupby\u001b[0m\u001b[0;34m(\u001b[0m\u001b[0;34m\"user_id\"\u001b[0m\u001b[0;34m)\u001b[0m\u001b[0;34m.\u001b[0m\u001b[0mitem_price\u001b[0m\u001b[0;34m.\u001b[0m\u001b[0mapply\u001b[0m\u001b[0;34m(\u001b[0m\u001b[0mreset_index\u001b[0m\u001b[0;34m(\u001b[0m\u001b[0;34m)\u001b[0m\u001b[0;34m)\u001b[0m\u001b[0;34m\u001b[0m\u001b[0;34m\u001b[0m\u001b[0m\n\u001b[0m",
      "\u001b[0;31mNameError\u001b[0m: name 'reset_index' is not defined"
     ]
    }
   ],
   "source": [
    "merge1.groupby(\"user_id\").item_price.apply()"
   ]
  },
  {
   "cell_type": "code",
   "execution_count": null,
   "metadata": {},
   "outputs": [],
   "source": []
  },
  {
   "cell_type": "code",
   "execution_count": 39,
   "metadata": {},
   "outputs": [
    {
     "data": {
      "text/html": [
       "<div>\n",
       "<style scoped>\n",
       "    .dataframe tbody tr th:only-of-type {\n",
       "        vertical-align: middle;\n",
       "    }\n",
       "\n",
       "    .dataframe tbody tr th {\n",
       "        vertical-align: top;\n",
       "    }\n",
       "\n",
       "    .dataframe thead th {\n",
       "        text-align: right;\n",
       "    }\n",
       "</style>\n",
       "<table border=\"1\" class=\"dataframe\">\n",
       "  <thead>\n",
       "    <tr style=\"text-align: right;\">\n",
       "      <th></th>\n",
       "      <th>impression_id</th>\n",
       "      <th>impression_time</th>\n",
       "      <th>user_id</th>\n",
       "      <th>app_code</th>\n",
       "      <th>os_version</th>\n",
       "      <th>is_4G</th>\n",
       "      <th>is_click</th>\n",
       "    </tr>\n",
       "  </thead>\n",
       "  <tbody>\n",
       "    <tr>\n",
       "      <th>0</th>\n",
       "      <td>c4ca4238a0b923820dcc509a6f75849b</td>\n",
       "      <td>2018-11-15 00:00:00</td>\n",
       "      <td>87862</td>\n",
       "      <td>422</td>\n",
       "      <td>old</td>\n",
       "      <td>0</td>\n",
       "      <td>0</td>\n",
       "    </tr>\n",
       "    <tr>\n",
       "      <th>616</th>\n",
       "      <td>621bf66ddb7c962aa0d22ac97d69b793</td>\n",
       "      <td>2018-11-15 00:19:00</td>\n",
       "      <td>87862</td>\n",
       "      <td>422</td>\n",
       "      <td>old</td>\n",
       "      <td>0</td>\n",
       "      <td>0</td>\n",
       "    </tr>\n",
       "    <tr>\n",
       "      <th>5936</th>\n",
       "      <td>ab394288aed46588bdc90bf4b541ec0d</td>\n",
       "      <td>2018-11-16 17:29:00</td>\n",
       "      <td>87862</td>\n",
       "      <td>422</td>\n",
       "      <td>old</td>\n",
       "      <td>0</td>\n",
       "      <td>0</td>\n",
       "    </tr>\n",
       "  </tbody>\n",
       "</table>\n",
       "</div>"
      ],
      "text/plain": [
       "                         impression_id      impression_time  user_id  \\\n",
       "0     c4ca4238a0b923820dcc509a6f75849b  2018-11-15 00:00:00    87862   \n",
       "616   621bf66ddb7c962aa0d22ac97d69b793  2018-11-15 00:19:00    87862   \n",
       "5936  ab394288aed46588bdc90bf4b541ec0d  2018-11-16 17:29:00    87862   \n",
       "\n",
       "      app_code os_version  is_4G  is_click  \n",
       "0          422        old      0         0  \n",
       "616        422        old      0         0  \n",
       "5936       422        old      0         0  "
      ]
     },
     "execution_count": 39,
     "metadata": {},
     "output_type": "execute_result"
    }
   ],
   "source": [
    "train_df[train_df[\"user_id\"]==87862]"
   ]
  },
  {
   "cell_type": "code",
   "execution_count": 18,
   "metadata": {},
   "outputs": [],
   "source": [
    "a = train_df[train_df[\"user_id\"]==0][\"impression_time\"].values[0]"
   ]
  },
  {
   "cell_type": "code",
   "execution_count": 35,
   "metadata": {},
   "outputs": [],
   "source": [
    "gb = log_df.groupby(\"user_id\")"
   ]
  },
  {
   "cell_type": "code",
   "execution_count": 37,
   "metadata": {
    "collapsed": true
   },
   "outputs": [
    {
     "data": {
      "text/plain": [
       "user_id\n",
       "0         42\n",
       "1          8\n",
       "2        165\n",
       "3          8\n",
       "4          2\n",
       "5          1\n",
       "6         13\n",
       "7          6\n",
       "8        182\n",
       "9         22\n",
       "10        92\n",
       "11         2\n",
       "12       105\n",
       "14        51\n",
       "15        45\n",
       "16         9\n",
       "17         1\n",
       "18         6\n",
       "19        41\n",
       "20        90\n",
       "21        38\n",
       "22        21\n",
       "23         1\n",
       "24        15\n",
       "25        49\n",
       "26        18\n",
       "27        38\n",
       "28        34\n",
       "29        25\n",
       "30        38\n",
       "        ... \n",
       "92556      1\n",
       "92557      3\n",
       "92558     10\n",
       "92559     16\n",
       "92560      4\n",
       "92561     17\n",
       "92562      3\n",
       "92563      7\n",
       "92564      1\n",
       "92565      7\n",
       "92566     31\n",
       "92567     56\n",
       "92568      2\n",
       "92569     82\n",
       "92570      2\n",
       "92571      3\n",
       "92572      5\n",
       "92573      4\n",
       "92574      2\n",
       "92576     24\n",
       "92577      2\n",
       "92578      8\n",
       "92579      5\n",
       "92580     12\n",
       "92581     11\n",
       "92582     11\n",
       "92583      3\n",
       "92584      3\n",
       "92585      5\n",
       "92586     22\n",
       "Name: server_time, Length: 89157, dtype: int64"
      ]
     },
     "execution_count": 37,
     "metadata": {},
     "output_type": "execute_result"
    }
   ],
   "source": []
  },
  {
   "cell_type": "code",
   "execution_count": null,
   "metadata": {},
   "outputs": [],
   "source": []
  },
  {
   "cell_type": "code",
   "execution_count": null,
   "metadata": {},
   "outputs": [],
   "source": []
  },
  {
   "cell_type": "code",
   "execution_count": null,
   "metadata": {},
   "outputs": [],
   "source": []
  },
  {
   "cell_type": "code",
   "execution_count": null,
   "metadata": {},
   "outputs": [],
   "source": []
  },
  {
   "cell_type": "code",
   "execution_count": 15,
   "metadata": {
    "collapsed": true
   },
   "outputs": [
    {
     "data": {
      "text/html": [
       "<div>\n",
       "<style scoped>\n",
       "    .dataframe tbody tr th:only-of-type {\n",
       "        vertical-align: middle;\n",
       "    }\n",
       "\n",
       "    .dataframe tbody tr th {\n",
       "        vertical-align: top;\n",
       "    }\n",
       "\n",
       "    .dataframe thead th {\n",
       "        text-align: right;\n",
       "    }\n",
       "</style>\n",
       "<table border=\"1\" class=\"dataframe\">\n",
       "  <thead>\n",
       "    <tr style=\"text-align: right;\">\n",
       "      <th></th>\n",
       "      <th>server_time</th>\n",
       "      <th>device_type</th>\n",
       "      <th>session_id</th>\n",
       "      <th>user_id</th>\n",
       "      <th>item_id</th>\n",
       "    </tr>\n",
       "  </thead>\n",
       "  <tbody>\n",
       "    <tr>\n",
       "      <th>163910</th>\n",
       "      <td>2018-10-18 14:27:00</td>\n",
       "      <td>android</td>\n",
       "      <td>268465</td>\n",
       "      <td>0</td>\n",
       "      <td>44459</td>\n",
       "    </tr>\n",
       "    <tr>\n",
       "      <th>163921</th>\n",
       "      <td>2018-10-18 14:27:00</td>\n",
       "      <td>android</td>\n",
       "      <td>268465</td>\n",
       "      <td>0</td>\n",
       "      <td>44459</td>\n",
       "    </tr>\n",
       "    <tr>\n",
       "      <th>164584</th>\n",
       "      <td>2018-10-18 14:43:00</td>\n",
       "      <td>android</td>\n",
       "      <td>268465</td>\n",
       "      <td>0</td>\n",
       "      <td>44459</td>\n",
       "    </tr>\n",
       "    <tr>\n",
       "      <th>164700</th>\n",
       "      <td>2018-10-18 14:46:00</td>\n",
       "      <td>android</td>\n",
       "      <td>268465</td>\n",
       "      <td>0</td>\n",
       "      <td>44459</td>\n",
       "    </tr>\n",
       "    <tr>\n",
       "      <th>164729</th>\n",
       "      <td>2018-10-18 14:46:00</td>\n",
       "      <td>android</td>\n",
       "      <td>268465</td>\n",
       "      <td>0</td>\n",
       "      <td>44459</td>\n",
       "    </tr>\n",
       "    <tr>\n",
       "      <th>164774</th>\n",
       "      <td>2018-10-18 14:47:00</td>\n",
       "      <td>android</td>\n",
       "      <td>268465</td>\n",
       "      <td>0</td>\n",
       "      <td>44459</td>\n",
       "    </tr>\n",
       "    <tr>\n",
       "      <th>338978</th>\n",
       "      <td>2018-10-22 09:48:00</td>\n",
       "      <td>android</td>\n",
       "      <td>295495</td>\n",
       "      <td>0</td>\n",
       "      <td>40228</td>\n",
       "    </tr>\n",
       "    <tr>\n",
       "      <th>538172</th>\n",
       "      <td>2018-10-26 09:07:00</td>\n",
       "      <td>android</td>\n",
       "      <td>675965</td>\n",
       "      <td>0</td>\n",
       "      <td>58320</td>\n",
       "    </tr>\n",
       "    <tr>\n",
       "      <th>538227</th>\n",
       "      <td>2018-10-26 09:08:00</td>\n",
       "      <td>android</td>\n",
       "      <td>675965</td>\n",
       "      <td>0</td>\n",
       "      <td>129641</td>\n",
       "    </tr>\n",
       "    <tr>\n",
       "      <th>1107788</th>\n",
       "      <td>2018-11-06 14:46:00</td>\n",
       "      <td>android</td>\n",
       "      <td>956652</td>\n",
       "      <td>0</td>\n",
       "      <td>40228</td>\n",
       "    </tr>\n",
       "    <tr>\n",
       "      <th>1355010</th>\n",
       "      <td>2018-11-11 10:09:00</td>\n",
       "      <td>android</td>\n",
       "      <td>143955</td>\n",
       "      <td>0</td>\n",
       "      <td>89373</td>\n",
       "    </tr>\n",
       "    <tr>\n",
       "      <th>1355056</th>\n",
       "      <td>2018-11-11 10:10:00</td>\n",
       "      <td>android</td>\n",
       "      <td>143955</td>\n",
       "      <td>0</td>\n",
       "      <td>10379</td>\n",
       "    </tr>\n",
       "    <tr>\n",
       "      <th>1355084</th>\n",
       "      <td>2018-11-11 10:10:00</td>\n",
       "      <td>android</td>\n",
       "      <td>143955</td>\n",
       "      <td>0</td>\n",
       "      <td>10379</td>\n",
       "    </tr>\n",
       "    <tr>\n",
       "      <th>1355117</th>\n",
       "      <td>2018-11-11 10:11:00</td>\n",
       "      <td>android</td>\n",
       "      <td>143955</td>\n",
       "      <td>0</td>\n",
       "      <td>89373</td>\n",
       "    </tr>\n",
       "    <tr>\n",
       "      <th>1355242</th>\n",
       "      <td>2018-11-11 10:13:00</td>\n",
       "      <td>android</td>\n",
       "      <td>143955</td>\n",
       "      <td>0</td>\n",
       "      <td>40039</td>\n",
       "    </tr>\n",
       "    <tr>\n",
       "      <th>1355271</th>\n",
       "      <td>2018-11-11 10:13:00</td>\n",
       "      <td>android</td>\n",
       "      <td>143955</td>\n",
       "      <td>0</td>\n",
       "      <td>40039</td>\n",
       "    </tr>\n",
       "    <tr>\n",
       "      <th>1355329</th>\n",
       "      <td>2018-11-11 10:14:00</td>\n",
       "      <td>android</td>\n",
       "      <td>143955</td>\n",
       "      <td>0</td>\n",
       "      <td>88013</td>\n",
       "    </tr>\n",
       "    <tr>\n",
       "      <th>1355387</th>\n",
       "      <td>2018-11-11 10:15:00</td>\n",
       "      <td>android</td>\n",
       "      <td>143955</td>\n",
       "      <td>0</td>\n",
       "      <td>2715</td>\n",
       "    </tr>\n",
       "    <tr>\n",
       "      <th>1355488</th>\n",
       "      <td>2018-11-11 10:16:00</td>\n",
       "      <td>android</td>\n",
       "      <td>143955</td>\n",
       "      <td>0</td>\n",
       "      <td>2715</td>\n",
       "    </tr>\n",
       "    <tr>\n",
       "      <th>1355526</th>\n",
       "      <td>2018-11-11 10:17:00</td>\n",
       "      <td>android</td>\n",
       "      <td>143955</td>\n",
       "      <td>0</td>\n",
       "      <td>116073</td>\n",
       "    </tr>\n",
       "    <tr>\n",
       "      <th>1355595</th>\n",
       "      <td>2018-11-11 10:18:00</td>\n",
       "      <td>android</td>\n",
       "      <td>143955</td>\n",
       "      <td>0</td>\n",
       "      <td>41184</td>\n",
       "    </tr>\n",
       "    <tr>\n",
       "      <th>1355665</th>\n",
       "      <td>2018-11-11 10:19:00</td>\n",
       "      <td>android</td>\n",
       "      <td>143955</td>\n",
       "      <td>0</td>\n",
       "      <td>40228</td>\n",
       "    </tr>\n",
       "    <tr>\n",
       "      <th>1355708</th>\n",
       "      <td>2018-11-11 10:20:00</td>\n",
       "      <td>android</td>\n",
       "      <td>143955</td>\n",
       "      <td>0</td>\n",
       "      <td>60603</td>\n",
       "    </tr>\n",
       "    <tr>\n",
       "      <th>1355945</th>\n",
       "      <td>2018-11-11 10:23:00</td>\n",
       "      <td>android</td>\n",
       "      <td>143955</td>\n",
       "      <td>0</td>\n",
       "      <td>120442</td>\n",
       "    </tr>\n",
       "    <tr>\n",
       "      <th>1355950</th>\n",
       "      <td>2018-11-11 10:24:00</td>\n",
       "      <td>android</td>\n",
       "      <td>143955</td>\n",
       "      <td>0</td>\n",
       "      <td>116073</td>\n",
       "    </tr>\n",
       "    <tr>\n",
       "      <th>1356420</th>\n",
       "      <td>2018-11-11 10:32:00</td>\n",
       "      <td>android</td>\n",
       "      <td>143955</td>\n",
       "      <td>0</td>\n",
       "      <td>22105</td>\n",
       "    </tr>\n",
       "    <tr>\n",
       "      <th>1357150</th>\n",
       "      <td>2018-11-11 10:45:00</td>\n",
       "      <td>android</td>\n",
       "      <td>143955</td>\n",
       "      <td>0</td>\n",
       "      <td>60603</td>\n",
       "    </tr>\n",
       "    <tr>\n",
       "      <th>1357397</th>\n",
       "      <td>2018-11-11 10:50:00</td>\n",
       "      <td>android</td>\n",
       "      <td>143955</td>\n",
       "      <td>0</td>\n",
       "      <td>60603</td>\n",
       "    </tr>\n",
       "    <tr>\n",
       "      <th>1357474</th>\n",
       "      <td>2018-11-11 10:51:00</td>\n",
       "      <td>android</td>\n",
       "      <td>143955</td>\n",
       "      <td>0</td>\n",
       "      <td>116073</td>\n",
       "    </tr>\n",
       "    <tr>\n",
       "      <th>1538672</th>\n",
       "      <td>2018-11-14 15:44:00</td>\n",
       "      <td>android</td>\n",
       "      <td>315626</td>\n",
       "      <td>0</td>\n",
       "      <td>58320</td>\n",
       "    </tr>\n",
       "    <tr>\n",
       "      <th>1538708</th>\n",
       "      <td>2018-11-14 15:45:00</td>\n",
       "      <td>android</td>\n",
       "      <td>315626</td>\n",
       "      <td>0</td>\n",
       "      <td>60603</td>\n",
       "    </tr>\n",
       "    <tr>\n",
       "      <th>2241335</th>\n",
       "      <td>2018-11-26 15:34:00</td>\n",
       "      <td>android</td>\n",
       "      <td>921046</td>\n",
       "      <td>0</td>\n",
       "      <td>12439</td>\n",
       "    </tr>\n",
       "    <tr>\n",
       "      <th>2627295</th>\n",
       "      <td>2018-12-04 07:19:00</td>\n",
       "      <td>android</td>\n",
       "      <td>86373</td>\n",
       "      <td>0</td>\n",
       "      <td>116073</td>\n",
       "    </tr>\n",
       "    <tr>\n",
       "      <th>2709080</th>\n",
       "      <td>2018-12-05 11:47:00</td>\n",
       "      <td>android</td>\n",
       "      <td>968970</td>\n",
       "      <td>0</td>\n",
       "      <td>1751</td>\n",
       "    </tr>\n",
       "    <tr>\n",
       "      <th>2709578</th>\n",
       "      <td>2018-12-05 11:53:00</td>\n",
       "      <td>android</td>\n",
       "      <td>968970</td>\n",
       "      <td>0</td>\n",
       "      <td>66401</td>\n",
       "    </tr>\n",
       "    <tr>\n",
       "      <th>2709660</th>\n",
       "      <td>2018-12-05 11:54:00</td>\n",
       "      <td>android</td>\n",
       "      <td>968970</td>\n",
       "      <td>0</td>\n",
       "      <td>66401</td>\n",
       "    </tr>\n",
       "    <tr>\n",
       "      <th>2710504</th>\n",
       "      <td>2018-12-05 12:04:00</td>\n",
       "      <td>android</td>\n",
       "      <td>968970</td>\n",
       "      <td>0</td>\n",
       "      <td>126865</td>\n",
       "    </tr>\n",
       "    <tr>\n",
       "      <th>2710876</th>\n",
       "      <td>2018-12-05 12:10:00</td>\n",
       "      <td>android</td>\n",
       "      <td>968970</td>\n",
       "      <td>0</td>\n",
       "      <td>66401</td>\n",
       "    </tr>\n",
       "    <tr>\n",
       "      <th>2761257</th>\n",
       "      <td>2018-12-06 06:15:00</td>\n",
       "      <td>android</td>\n",
       "      <td>144465</td>\n",
       "      <td>0</td>\n",
       "      <td>60603</td>\n",
       "    </tr>\n",
       "    <tr>\n",
       "      <th>2761690</th>\n",
       "      <td>2018-12-06 06:33:00</td>\n",
       "      <td>android</td>\n",
       "      <td>144465</td>\n",
       "      <td>0</td>\n",
       "      <td>126865</td>\n",
       "    </tr>\n",
       "    <tr>\n",
       "      <th>2855756</th>\n",
       "      <td>2018-12-07 20:32:00</td>\n",
       "      <td>android</td>\n",
       "      <td>191704</td>\n",
       "      <td>0</td>\n",
       "      <td>66401</td>\n",
       "    </tr>\n",
       "    <tr>\n",
       "      <th>2855791</th>\n",
       "      <td>2018-12-07 20:32:00</td>\n",
       "      <td>android</td>\n",
       "      <td>191704</td>\n",
       "      <td>0</td>\n",
       "      <td>66401</td>\n",
       "    </tr>\n",
       "  </tbody>\n",
       "</table>\n",
       "</div>"
      ],
      "text/plain": [
       "                 server_time device_type  session_id  user_id  item_id\n",
       "163910   2018-10-18 14:27:00     android      268465        0    44459\n",
       "163921   2018-10-18 14:27:00     android      268465        0    44459\n",
       "164584   2018-10-18 14:43:00     android      268465        0    44459\n",
       "164700   2018-10-18 14:46:00     android      268465        0    44459\n",
       "164729   2018-10-18 14:46:00     android      268465        0    44459\n",
       "164774   2018-10-18 14:47:00     android      268465        0    44459\n",
       "338978   2018-10-22 09:48:00     android      295495        0    40228\n",
       "538172   2018-10-26 09:07:00     android      675965        0    58320\n",
       "538227   2018-10-26 09:08:00     android      675965        0   129641\n",
       "1107788  2018-11-06 14:46:00     android      956652        0    40228\n",
       "1355010  2018-11-11 10:09:00     android      143955        0    89373\n",
       "1355056  2018-11-11 10:10:00     android      143955        0    10379\n",
       "1355084  2018-11-11 10:10:00     android      143955        0    10379\n",
       "1355117  2018-11-11 10:11:00     android      143955        0    89373\n",
       "1355242  2018-11-11 10:13:00     android      143955        0    40039\n",
       "1355271  2018-11-11 10:13:00     android      143955        0    40039\n",
       "1355329  2018-11-11 10:14:00     android      143955        0    88013\n",
       "1355387  2018-11-11 10:15:00     android      143955        0     2715\n",
       "1355488  2018-11-11 10:16:00     android      143955        0     2715\n",
       "1355526  2018-11-11 10:17:00     android      143955        0   116073\n",
       "1355595  2018-11-11 10:18:00     android      143955        0    41184\n",
       "1355665  2018-11-11 10:19:00     android      143955        0    40228\n",
       "1355708  2018-11-11 10:20:00     android      143955        0    60603\n",
       "1355945  2018-11-11 10:23:00     android      143955        0   120442\n",
       "1355950  2018-11-11 10:24:00     android      143955        0   116073\n",
       "1356420  2018-11-11 10:32:00     android      143955        0    22105\n",
       "1357150  2018-11-11 10:45:00     android      143955        0    60603\n",
       "1357397  2018-11-11 10:50:00     android      143955        0    60603\n",
       "1357474  2018-11-11 10:51:00     android      143955        0   116073\n",
       "1538672  2018-11-14 15:44:00     android      315626        0    58320\n",
       "1538708  2018-11-14 15:45:00     android      315626        0    60603\n",
       "2241335  2018-11-26 15:34:00     android      921046        0    12439\n",
       "2627295  2018-12-04 07:19:00     android       86373        0   116073\n",
       "2709080  2018-12-05 11:47:00     android      968970        0     1751\n",
       "2709578  2018-12-05 11:53:00     android      968970        0    66401\n",
       "2709660  2018-12-05 11:54:00     android      968970        0    66401\n",
       "2710504  2018-12-05 12:04:00     android      968970        0   126865\n",
       "2710876  2018-12-05 12:10:00     android      968970        0    66401\n",
       "2761257  2018-12-06 06:15:00     android      144465        0    60603\n",
       "2761690  2018-12-06 06:33:00     android      144465        0   126865\n",
       "2855756  2018-12-07 20:32:00     android      191704        0    66401\n",
       "2855791  2018-12-07 20:32:00     android      191704        0    66401"
      ]
     },
     "execution_count": 15,
     "metadata": {},
     "output_type": "execute_result"
    }
   ],
   "source": [
    "log_df[log_df[\"user_id\"]==0]"
   ]
  },
  {
   "cell_type": "code",
   "execution_count": 36,
   "metadata": {},
   "outputs": [],
   "source": [
    "import matplotlib.pyplot as plt\n",
    "%matplotlib inline"
   ]
  },
  {
   "cell_type": "code",
   "execution_count": 45,
   "metadata": {},
   "outputs": [
    {
     "data": {
      "text/plain": [
       "array([ 4557, 74788, 23628, ...,  5127, 77576,  4925])"
      ]
     },
     "execution_count": 45,
     "metadata": {},
     "output_type": "execute_result"
    }
   ],
   "source": [
    "log_df.user_id.unique()"
   ]
  },
  {
   "cell_type": "code",
   "execution_count": 46,
   "metadata": {},
   "outputs": [
    {
     "data": {
      "text/plain": [
       "array([87862, 63410, 71748, ..., 89765, 43386,  2699])"
      ]
     },
     "execution_count": 46,
     "metadata": {},
     "output_type": "execute_result"
    }
   ],
   "source": [
    "train_df.user_id.unique()"
   ]
  },
  {
   "cell_type": "code",
   "execution_count": 56,
   "metadata": {},
   "outputs": [],
   "source": [
    "# df1 = log_df[log_df[\"\"]==89765]\n",
    "df2 = train_df[train_df[\"is_click\"]==1]"
   ]
  },
  {
   "cell_type": "code",
   "execution_count": 57,
   "metadata": {},
   "outputs": [
    {
     "data": {
      "text/plain": [
       "array([63410, 74339, 81926, ..., 50864, 83666, 19918])"
      ]
     },
     "execution_count": 57,
     "metadata": {},
     "output_type": "execute_result"
    }
   ],
   "source": [
    "df2.user_id.unique()"
   ]
  },
  {
   "cell_type": "code",
   "execution_count": 65,
   "metadata": {},
   "outputs": [],
   "source": [
    "df1 = log_df[log_df[\"user_id\"]==74339]"
   ]
  },
  {
   "cell_type": "code",
   "execution_count": 108,
   "metadata": {},
   "outputs": [
    {
     "data": {
      "text/html": [
       "<div>\n",
       "<style scoped>\n",
       "    .dataframe tbody tr th:only-of-type {\n",
       "        vertical-align: middle;\n",
       "    }\n",
       "\n",
       "    .dataframe tbody tr th {\n",
       "        vertical-align: top;\n",
       "    }\n",
       "\n",
       "    .dataframe thead th {\n",
       "        text-align: right;\n",
       "    }\n",
       "</style>\n",
       "<table border=\"1\" class=\"dataframe\">\n",
       "  <thead>\n",
       "    <tr style=\"text-align: right;\">\n",
       "      <th></th>\n",
       "      <th>server_time</th>\n",
       "      <th>device_type</th>\n",
       "      <th>session_id</th>\n",
       "      <th>user_id</th>\n",
       "      <th>item_id</th>\n",
       "    </tr>\n",
       "  </thead>\n",
       "  <tbody>\n",
       "    <tr>\n",
       "      <th>204076</th>\n",
       "      <td>2018-10-19 10:37:00</td>\n",
       "      <td>android</td>\n",
       "      <td>248910</td>\n",
       "      <td>74339</td>\n",
       "      <td>100847</td>\n",
       "    </tr>\n",
       "    <tr>\n",
       "      <th>204756</th>\n",
       "      <td>2018-10-19 10:54:00</td>\n",
       "      <td>android</td>\n",
       "      <td>248910</td>\n",
       "      <td>74339</td>\n",
       "      <td>117590</td>\n",
       "    </tr>\n",
       "    <tr>\n",
       "      <th>204851</th>\n",
       "      <td>2018-10-19 10:56:00</td>\n",
       "      <td>android</td>\n",
       "      <td>248910</td>\n",
       "      <td>74339</td>\n",
       "      <td>6131</td>\n",
       "    </tr>\n",
       "    <tr>\n",
       "      <th>371236</th>\n",
       "      <td>2018-10-22 21:39:00</td>\n",
       "      <td>android</td>\n",
       "      <td>542468</td>\n",
       "      <td>74339</td>\n",
       "      <td>78766</td>\n",
       "    </tr>\n",
       "    <tr>\n",
       "      <th>371282</th>\n",
       "      <td>2018-10-22 21:40:00</td>\n",
       "      <td>android</td>\n",
       "      <td>542468</td>\n",
       "      <td>74339</td>\n",
       "      <td>129770</td>\n",
       "    </tr>\n",
       "    <tr>\n",
       "      <th>371298</th>\n",
       "      <td>2018-10-22 21:40:00</td>\n",
       "      <td>android</td>\n",
       "      <td>542468</td>\n",
       "      <td>74339</td>\n",
       "      <td>13924</td>\n",
       "    </tr>\n",
       "    <tr>\n",
       "      <th>371318</th>\n",
       "      <td>2018-10-22 21:41:00</td>\n",
       "      <td>android</td>\n",
       "      <td>542468</td>\n",
       "      <td>74339</td>\n",
       "      <td>115366</td>\n",
       "    </tr>\n",
       "    <tr>\n",
       "      <th>371333</th>\n",
       "      <td>2018-10-22 21:41:00</td>\n",
       "      <td>android</td>\n",
       "      <td>542468</td>\n",
       "      <td>74339</td>\n",
       "      <td>129770</td>\n",
       "    </tr>\n",
       "    <tr>\n",
       "      <th>489998</th>\n",
       "      <td>2018-10-25 08:45:00</td>\n",
       "      <td>android</td>\n",
       "      <td>943333</td>\n",
       "      <td>74339</td>\n",
       "      <td>71838</td>\n",
       "    </tr>\n",
       "    <tr>\n",
       "      <th>571987</th>\n",
       "      <td>2018-10-27 00:31:00</td>\n",
       "      <td>android</td>\n",
       "      <td>1026359</td>\n",
       "      <td>74339</td>\n",
       "      <td>16770</td>\n",
       "    </tr>\n",
       "    <tr>\n",
       "      <th>677066</th>\n",
       "      <td>2018-10-29 10:29:00</td>\n",
       "      <td>android</td>\n",
       "      <td>288444</td>\n",
       "      <td>74339</td>\n",
       "      <td>30766</td>\n",
       "    </tr>\n",
       "    <tr>\n",
       "      <th>677111</th>\n",
       "      <td>2018-10-29 10:30:00</td>\n",
       "      <td>android</td>\n",
       "      <td>288444</td>\n",
       "      <td>74339</td>\n",
       "      <td>107155</td>\n",
       "    </tr>\n",
       "    <tr>\n",
       "      <th>677112</th>\n",
       "      <td>2018-10-29 10:30:00</td>\n",
       "      <td>android</td>\n",
       "      <td>288444</td>\n",
       "      <td>74339</td>\n",
       "      <td>26058</td>\n",
       "    </tr>\n",
       "    <tr>\n",
       "      <th>677194</th>\n",
       "      <td>2018-10-29 10:31:00</td>\n",
       "      <td>android</td>\n",
       "      <td>288444</td>\n",
       "      <td>74339</td>\n",
       "      <td>88228</td>\n",
       "    </tr>\n",
       "    <tr>\n",
       "      <th>1415208</th>\n",
       "      <td>2018-11-12 10:44:00</td>\n",
       "      <td>android</td>\n",
       "      <td>689687</td>\n",
       "      <td>74339</td>\n",
       "      <td>81804</td>\n",
       "    </tr>\n",
       "    <tr>\n",
       "      <th>1415431</th>\n",
       "      <td>2018-11-12 10:49:00</td>\n",
       "      <td>android</td>\n",
       "      <td>689687</td>\n",
       "      <td>74339</td>\n",
       "      <td>5408</td>\n",
       "    </tr>\n",
       "    <tr>\n",
       "      <th>1415516</th>\n",
       "      <td>2018-11-12 10:50:00</td>\n",
       "      <td>android</td>\n",
       "      <td>689687</td>\n",
       "      <td>74339</td>\n",
       "      <td>50736</td>\n",
       "    </tr>\n",
       "    <tr>\n",
       "      <th>1415586</th>\n",
       "      <td>2018-11-12 10:51:00</td>\n",
       "      <td>android</td>\n",
       "      <td>689687</td>\n",
       "      <td>74339</td>\n",
       "      <td>18398</td>\n",
       "    </tr>\n",
       "    <tr>\n",
       "      <th>1415712</th>\n",
       "      <td>2018-11-12 10:53:00</td>\n",
       "      <td>android</td>\n",
       "      <td>689687</td>\n",
       "      <td>74339</td>\n",
       "      <td>7160</td>\n",
       "    </tr>\n",
       "    <tr>\n",
       "      <th>1505064</th>\n",
       "      <td>2018-11-13 22:27:00</td>\n",
       "      <td>android</td>\n",
       "      <td>191138</td>\n",
       "      <td>74339</td>\n",
       "      <td>67420</td>\n",
       "    </tr>\n",
       "    <tr>\n",
       "      <th>1505111</th>\n",
       "      <td>2018-11-13 22:28:00</td>\n",
       "      <td>android</td>\n",
       "      <td>191138</td>\n",
       "      <td>74339</td>\n",
       "      <td>66811</td>\n",
       "    </tr>\n",
       "    <tr>\n",
       "      <th>1505193</th>\n",
       "      <td>2018-11-13 22:29:00</td>\n",
       "      <td>android</td>\n",
       "      <td>191138</td>\n",
       "      <td>74339</td>\n",
       "      <td>25208</td>\n",
       "    </tr>\n",
       "    <tr>\n",
       "      <th>1521949</th>\n",
       "      <td>2018-11-14 10:39:00</td>\n",
       "      <td>android</td>\n",
       "      <td>844154</td>\n",
       "      <td>74339</td>\n",
       "      <td>25208</td>\n",
       "    </tr>\n",
       "    <tr>\n",
       "      <th>1578646</th>\n",
       "      <td>2018-11-15 00:06:00</td>\n",
       "      <td>android</td>\n",
       "      <td>10563</td>\n",
       "      <td>74339</td>\n",
       "      <td>99522</td>\n",
       "    </tr>\n",
       "    <tr>\n",
       "      <th>1578650</th>\n",
       "      <td>2018-11-15 00:06:00</td>\n",
       "      <td>android</td>\n",
       "      <td>10563</td>\n",
       "      <td>74339</td>\n",
       "      <td>18398</td>\n",
       "    </tr>\n",
       "    <tr>\n",
       "      <th>1579236</th>\n",
       "      <td>2018-11-15 00:15:00</td>\n",
       "      <td>android</td>\n",
       "      <td>10563</td>\n",
       "      <td>74339</td>\n",
       "      <td>37822</td>\n",
       "    </tr>\n",
       "    <tr>\n",
       "      <th>1579901</th>\n",
       "      <td>2018-11-15 00:25:00</td>\n",
       "      <td>android</td>\n",
       "      <td>10563</td>\n",
       "      <td>74339</td>\n",
       "      <td>25208</td>\n",
       "    </tr>\n",
       "    <tr>\n",
       "      <th>1638343</th>\n",
       "      <td>2018-11-16 00:54:00</td>\n",
       "      <td>android</td>\n",
       "      <td>250825</td>\n",
       "      <td>74339</td>\n",
       "      <td>25208</td>\n",
       "    </tr>\n",
       "    <tr>\n",
       "      <th>1865032</th>\n",
       "      <td>2018-11-19 21:31:00</td>\n",
       "      <td>android</td>\n",
       "      <td>1078974</td>\n",
       "      <td>74339</td>\n",
       "      <td>96431</td>\n",
       "    </tr>\n",
       "    <tr>\n",
       "      <th>1865064</th>\n",
       "      <td>2018-11-19 21:31:00</td>\n",
       "      <td>android</td>\n",
       "      <td>1078974</td>\n",
       "      <td>74339</td>\n",
       "      <td>79371</td>\n",
       "    </tr>\n",
       "    <tr>\n",
       "      <th>...</th>\n",
       "      <td>...</td>\n",
       "      <td>...</td>\n",
       "      <td>...</td>\n",
       "      <td>...</td>\n",
       "      <td>...</td>\n",
       "    </tr>\n",
       "    <tr>\n",
       "      <th>1956830</th>\n",
       "      <td>2018-11-21 10:40:00</td>\n",
       "      <td>android</td>\n",
       "      <td>484394</td>\n",
       "      <td>74339</td>\n",
       "      <td>118269</td>\n",
       "    </tr>\n",
       "    <tr>\n",
       "      <th>1956973</th>\n",
       "      <td>2018-11-21 10:42:00</td>\n",
       "      <td>android</td>\n",
       "      <td>484394</td>\n",
       "      <td>74339</td>\n",
       "      <td>22623</td>\n",
       "    </tr>\n",
       "    <tr>\n",
       "      <th>1957082</th>\n",
       "      <td>2018-11-21 10:44:00</td>\n",
       "      <td>android</td>\n",
       "      <td>484394</td>\n",
       "      <td>74339</td>\n",
       "      <td>46626</td>\n",
       "    </tr>\n",
       "    <tr>\n",
       "      <th>1957205</th>\n",
       "      <td>2018-11-21 10:45:00</td>\n",
       "      <td>android</td>\n",
       "      <td>484394</td>\n",
       "      <td>74339</td>\n",
       "      <td>68481</td>\n",
       "    </tr>\n",
       "    <tr>\n",
       "      <th>2005524</th>\n",
       "      <td>2018-11-22 00:56:00</td>\n",
       "      <td>android</td>\n",
       "      <td>307789</td>\n",
       "      <td>74339</td>\n",
       "      <td>86831</td>\n",
       "    </tr>\n",
       "    <tr>\n",
       "      <th>2005630</th>\n",
       "      <td>2018-11-22 00:59:00</td>\n",
       "      <td>android</td>\n",
       "      <td>307789</td>\n",
       "      <td>74339</td>\n",
       "      <td>41279</td>\n",
       "    </tr>\n",
       "    <tr>\n",
       "      <th>2005716</th>\n",
       "      <td>2018-11-22 01:01:00</td>\n",
       "      <td>android</td>\n",
       "      <td>307789</td>\n",
       "      <td>74339</td>\n",
       "      <td>119491</td>\n",
       "    </tr>\n",
       "    <tr>\n",
       "      <th>2005745</th>\n",
       "      <td>2018-11-22 01:02:00</td>\n",
       "      <td>android</td>\n",
       "      <td>307789</td>\n",
       "      <td>74339</td>\n",
       "      <td>99522</td>\n",
       "    </tr>\n",
       "    <tr>\n",
       "      <th>2018903</th>\n",
       "      <td>2018-11-22 10:44:00</td>\n",
       "      <td>android</td>\n",
       "      <td>575450</td>\n",
       "      <td>74339</td>\n",
       "      <td>110399</td>\n",
       "    </tr>\n",
       "    <tr>\n",
       "      <th>2018911</th>\n",
       "      <td>2018-11-22 10:44:00</td>\n",
       "      <td>android</td>\n",
       "      <td>575450</td>\n",
       "      <td>74339</td>\n",
       "      <td>132568</td>\n",
       "    </tr>\n",
       "    <tr>\n",
       "      <th>2018978</th>\n",
       "      <td>2018-11-22 10:46:00</td>\n",
       "      <td>android</td>\n",
       "      <td>575450</td>\n",
       "      <td>74339</td>\n",
       "      <td>68979</td>\n",
       "    </tr>\n",
       "    <tr>\n",
       "      <th>2019045</th>\n",
       "      <td>2018-11-22 10:47:00</td>\n",
       "      <td>android</td>\n",
       "      <td>575450</td>\n",
       "      <td>74339</td>\n",
       "      <td>76664</td>\n",
       "    </tr>\n",
       "    <tr>\n",
       "      <th>2019111</th>\n",
       "      <td>2018-11-22 10:48:00</td>\n",
       "      <td>android</td>\n",
       "      <td>575450</td>\n",
       "      <td>74339</td>\n",
       "      <td>26058</td>\n",
       "    </tr>\n",
       "    <tr>\n",
       "      <th>2019171</th>\n",
       "      <td>2018-11-22 10:49:00</td>\n",
       "      <td>android</td>\n",
       "      <td>575450</td>\n",
       "      <td>74339</td>\n",
       "      <td>83107</td>\n",
       "    </tr>\n",
       "    <tr>\n",
       "      <th>2439676</th>\n",
       "      <td>2018-12-01 10:26:00</td>\n",
       "      <td>android</td>\n",
       "      <td>639870</td>\n",
       "      <td>74339</td>\n",
       "      <td>89981</td>\n",
       "    </tr>\n",
       "    <tr>\n",
       "      <th>2502585</th>\n",
       "      <td>2018-12-02 10:25:00</td>\n",
       "      <td>android</td>\n",
       "      <td>1030502</td>\n",
       "      <td>74339</td>\n",
       "      <td>100880</td>\n",
       "    </tr>\n",
       "    <tr>\n",
       "      <th>2564783</th>\n",
       "      <td>2018-12-03 08:53:00</td>\n",
       "      <td>android</td>\n",
       "      <td>1040322</td>\n",
       "      <td>74339</td>\n",
       "      <td>63307</td>\n",
       "    </tr>\n",
       "    <tr>\n",
       "      <th>2564824</th>\n",
       "      <td>2018-12-03 08:54:00</td>\n",
       "      <td>android</td>\n",
       "      <td>1040322</td>\n",
       "      <td>74339</td>\n",
       "      <td>14216</td>\n",
       "    </tr>\n",
       "    <tr>\n",
       "      <th>2622318</th>\n",
       "      <td>2018-12-04 01:28:00</td>\n",
       "      <td>android</td>\n",
       "      <td>717345</td>\n",
       "      <td>74339</td>\n",
       "      <td>89981</td>\n",
       "    </tr>\n",
       "    <tr>\n",
       "      <th>2704236</th>\n",
       "      <td>2018-12-05 10:39:00</td>\n",
       "      <td>android</td>\n",
       "      <td>729630</td>\n",
       "      <td>74339</td>\n",
       "      <td>109202</td>\n",
       "    </tr>\n",
       "    <tr>\n",
       "      <th>2704356</th>\n",
       "      <td>2018-12-05 10:41:00</td>\n",
       "      <td>android</td>\n",
       "      <td>729630</td>\n",
       "      <td>74339</td>\n",
       "      <td>76989</td>\n",
       "    </tr>\n",
       "    <tr>\n",
       "      <th>2704427</th>\n",
       "      <td>2018-12-05 10:42:00</td>\n",
       "      <td>android</td>\n",
       "      <td>729630</td>\n",
       "      <td>74339</td>\n",
       "      <td>26572</td>\n",
       "    </tr>\n",
       "    <tr>\n",
       "      <th>2921560</th>\n",
       "      <td>2018-12-09 00:18:00</td>\n",
       "      <td>android</td>\n",
       "      <td>202249</td>\n",
       "      <td>74339</td>\n",
       "      <td>54546</td>\n",
       "    </tr>\n",
       "    <tr>\n",
       "      <th>3041106</th>\n",
       "      <td>2018-12-10 22:16:00</td>\n",
       "      <td>android</td>\n",
       "      <td>450406</td>\n",
       "      <td>74339</td>\n",
       "      <td>86831</td>\n",
       "    </tr>\n",
       "    <tr>\n",
       "      <th>3041335</th>\n",
       "      <td>2018-12-10 22:19:00</td>\n",
       "      <td>android</td>\n",
       "      <td>450406</td>\n",
       "      <td>74339</td>\n",
       "      <td>14474</td>\n",
       "    </tr>\n",
       "    <tr>\n",
       "      <th>3044525</th>\n",
       "      <td>2018-12-10 23:03:00</td>\n",
       "      <td>android</td>\n",
       "      <td>995316</td>\n",
       "      <td>74339</td>\n",
       "      <td>107958</td>\n",
       "    </tr>\n",
       "    <tr>\n",
       "      <th>3044685</th>\n",
       "      <td>2018-12-10 23:05:00</td>\n",
       "      <td>android</td>\n",
       "      <td>995316</td>\n",
       "      <td>74339</td>\n",
       "      <td>7196</td>\n",
       "    </tr>\n",
       "    <tr>\n",
       "      <th>3044708</th>\n",
       "      <td>2018-12-10 23:06:00</td>\n",
       "      <td>android</td>\n",
       "      <td>995316</td>\n",
       "      <td>74339</td>\n",
       "      <td>81606</td>\n",
       "    </tr>\n",
       "    <tr>\n",
       "      <th>3044862</th>\n",
       "      <td>2018-12-10 23:07:00</td>\n",
       "      <td>android</td>\n",
       "      <td>995316</td>\n",
       "      <td>74339</td>\n",
       "      <td>56512</td>\n",
       "    </tr>\n",
       "    <tr>\n",
       "      <th>3050020</th>\n",
       "      <td>2018-12-11 00:25:00</td>\n",
       "      <td>android</td>\n",
       "      <td>406435</td>\n",
       "      <td>74339</td>\n",
       "      <td>25897</td>\n",
       "    </tr>\n",
       "  </tbody>\n",
       "</table>\n",
       "<p>61 rows × 5 columns</p>\n",
       "</div>"
      ],
      "text/plain": [
       "                 server_time device_type  session_id  user_id  item_id\n",
       "204076   2018-10-19 10:37:00     android      248910    74339   100847\n",
       "204756   2018-10-19 10:54:00     android      248910    74339   117590\n",
       "204851   2018-10-19 10:56:00     android      248910    74339     6131\n",
       "371236   2018-10-22 21:39:00     android      542468    74339    78766\n",
       "371282   2018-10-22 21:40:00     android      542468    74339   129770\n",
       "371298   2018-10-22 21:40:00     android      542468    74339    13924\n",
       "371318   2018-10-22 21:41:00     android      542468    74339   115366\n",
       "371333   2018-10-22 21:41:00     android      542468    74339   129770\n",
       "489998   2018-10-25 08:45:00     android      943333    74339    71838\n",
       "571987   2018-10-27 00:31:00     android     1026359    74339    16770\n",
       "677066   2018-10-29 10:29:00     android      288444    74339    30766\n",
       "677111   2018-10-29 10:30:00     android      288444    74339   107155\n",
       "677112   2018-10-29 10:30:00     android      288444    74339    26058\n",
       "677194   2018-10-29 10:31:00     android      288444    74339    88228\n",
       "1415208  2018-11-12 10:44:00     android      689687    74339    81804\n",
       "1415431  2018-11-12 10:49:00     android      689687    74339     5408\n",
       "1415516  2018-11-12 10:50:00     android      689687    74339    50736\n",
       "1415586  2018-11-12 10:51:00     android      689687    74339    18398\n",
       "1415712  2018-11-12 10:53:00     android      689687    74339     7160\n",
       "1505064  2018-11-13 22:27:00     android      191138    74339    67420\n",
       "1505111  2018-11-13 22:28:00     android      191138    74339    66811\n",
       "1505193  2018-11-13 22:29:00     android      191138    74339    25208\n",
       "1521949  2018-11-14 10:39:00     android      844154    74339    25208\n",
       "1578646  2018-11-15 00:06:00     android       10563    74339    99522\n",
       "1578650  2018-11-15 00:06:00     android       10563    74339    18398\n",
       "1579236  2018-11-15 00:15:00     android       10563    74339    37822\n",
       "1579901  2018-11-15 00:25:00     android       10563    74339    25208\n",
       "1638343  2018-11-16 00:54:00     android      250825    74339    25208\n",
       "1865032  2018-11-19 21:31:00     android     1078974    74339    96431\n",
       "1865064  2018-11-19 21:31:00     android     1078974    74339    79371\n",
       "...                      ...         ...         ...      ...      ...\n",
       "1956830  2018-11-21 10:40:00     android      484394    74339   118269\n",
       "1956973  2018-11-21 10:42:00     android      484394    74339    22623\n",
       "1957082  2018-11-21 10:44:00     android      484394    74339    46626\n",
       "1957205  2018-11-21 10:45:00     android      484394    74339    68481\n",
       "2005524  2018-11-22 00:56:00     android      307789    74339    86831\n",
       "2005630  2018-11-22 00:59:00     android      307789    74339    41279\n",
       "2005716  2018-11-22 01:01:00     android      307789    74339   119491\n",
       "2005745  2018-11-22 01:02:00     android      307789    74339    99522\n",
       "2018903  2018-11-22 10:44:00     android      575450    74339   110399\n",
       "2018911  2018-11-22 10:44:00     android      575450    74339   132568\n",
       "2018978  2018-11-22 10:46:00     android      575450    74339    68979\n",
       "2019045  2018-11-22 10:47:00     android      575450    74339    76664\n",
       "2019111  2018-11-22 10:48:00     android      575450    74339    26058\n",
       "2019171  2018-11-22 10:49:00     android      575450    74339    83107\n",
       "2439676  2018-12-01 10:26:00     android      639870    74339    89981\n",
       "2502585  2018-12-02 10:25:00     android     1030502    74339   100880\n",
       "2564783  2018-12-03 08:53:00     android     1040322    74339    63307\n",
       "2564824  2018-12-03 08:54:00     android     1040322    74339    14216\n",
       "2622318  2018-12-04 01:28:00     android      717345    74339    89981\n",
       "2704236  2018-12-05 10:39:00     android      729630    74339   109202\n",
       "2704356  2018-12-05 10:41:00     android      729630    74339    76989\n",
       "2704427  2018-12-05 10:42:00     android      729630    74339    26572\n",
       "2921560  2018-12-09 00:18:00     android      202249    74339    54546\n",
       "3041106  2018-12-10 22:16:00     android      450406    74339    86831\n",
       "3041335  2018-12-10 22:19:00     android      450406    74339    14474\n",
       "3044525  2018-12-10 23:03:00     android      995316    74339   107958\n",
       "3044685  2018-12-10 23:05:00     android      995316    74339     7196\n",
       "3044708  2018-12-10 23:06:00     android      995316    74339    81606\n",
       "3044862  2018-12-10 23:07:00     android      995316    74339    56512\n",
       "3050020  2018-12-11 00:25:00     android      406435    74339    25897\n",
       "\n",
       "[61 rows x 5 columns]"
      ]
     },
     "execution_count": 108,
     "metadata": {},
     "output_type": "execute_result"
    }
   ],
   "source": [
    "df1"
   ]
  },
  {
   "cell_type": "code",
   "execution_count": 71,
   "metadata": {},
   "outputs": [],
   "source": [
    "df2 = df2[df2[\"user_id\"]==74339]"
   ]
  },
  {
   "cell_type": "code",
   "execution_count": 118,
   "metadata": {},
   "outputs": [
    {
     "name": "stdout",
     "output_type": "stream",
     "text": [
      "<class 'str'>\n",
      "29094\n",
      "<class 'str'>\n",
      "14080\n",
      "<class 'str'>\n",
      "14176\n"
     ]
    }
   ],
   "source": [
    "for _, row in df2.iterrows():\n",
    "    date1 = row[\"impression_time\"]\n",
    "    date2 = df1[df1[\"server_time\"]<=date1][\"server_time\"][-1:].values[0]\n",
    "    print(type(date2))\n",
    "    item_id = log_df[(log_df[\"user_id\"]==74339) & (log_df[\"server_time\"]==date2)][\"item_id\"]\n",
    "    df3 = pd.merge(item_id, item_df, on=\"item_id\")[\"item_price\"].sum()\n",
    "    print(df3)\n",
    "    "
   ]
  },
  {
   "cell_type": "code",
   "execution_count": 39,
   "metadata": {
    "collapsed": true
   },
   "outputs": [
    {
     "data": {
      "text/plain": [
       "([0,\n",
       "  1,\n",
       "  2,\n",
       "  3,\n",
       "  4,\n",
       "  5,\n",
       "  6,\n",
       "  7,\n",
       "  8,\n",
       "  9,\n",
       "  10,\n",
       "  11,\n",
       "  12,\n",
       "  13,\n",
       "  14,\n",
       "  15,\n",
       "  16,\n",
       "  17,\n",
       "  18,\n",
       "  19,\n",
       "  20,\n",
       "  21,\n",
       "  22,\n",
       "  23,\n",
       "  24,\n",
       "  25,\n",
       "  26,\n",
       "  27,\n",
       "  28,\n",
       "  29,\n",
       "  30,\n",
       "  31,\n",
       "  32,\n",
       "  33,\n",
       "  34,\n",
       "  35,\n",
       "  36],\n",
       " <a list of 37 Text xticklabel objects>)"
      ]
     },
     "execution_count": 39,
     "metadata": {},
     "output_type": "execute_result"
    },
    {
     "data": {
      "image/png": "[encoded data removed]",
      "text/plain": [
       "<Figure size 432x288 with 1 Axes>"
      ]
     },
     "metadata": {},
     "output_type": "display_data"
    }
   ],
   "source": [
    "plt.plot(df1['server_time'], df1['user_id'])\n",
    "plt.xticks(rotation='vertical')"
   ]
  },
  {
   "cell_type": "code",
   "execution_count": 30,
   "metadata": {},
   "outputs": [],
   "source": [
    "gb = log_df.groupby(\"user_id\").item_id.nunique().reset_index().rename(columns={\"item_id\":'count'})"
   ]
  },
  {
   "cell_type": "code",
   "execution_count": 31,
   "metadata": {},
   "outputs": [
    {
     "data": {
      "text/html": [
       "<div>\n",
       "<style scoped>\n",
       "    .dataframe tbody tr th:only-of-type {\n",
       "        vertical-align: middle;\n",
       "    }\n",
       "\n",
       "    .dataframe tbody tr th {\n",
       "        vertical-align: top;\n",
       "    }\n",
       "\n",
       "    .dataframe thead th {\n",
       "        text-align: right;\n",
       "    }\n",
       "</style>\n",
       "<table border=\"1\" class=\"dataframe\">\n",
       "  <thead>\n",
       "    <tr style=\"text-align: right;\">\n",
       "      <th></th>\n",
       "      <th>user_id</th>\n",
       "      <th>count</th>\n",
       "    </tr>\n",
       "  </thead>\n",
       "  <tbody>\n",
       "    <tr>\n",
       "      <th>0</th>\n",
       "      <td>0</td>\n",
       "      <td>18</td>\n",
       "    </tr>\n",
       "    <tr>\n",
       "      <th>1</th>\n",
       "      <td>1</td>\n",
       "      <td>8</td>\n",
       "    </tr>\n",
       "    <tr>\n",
       "      <th>2</th>\n",
       "      <td>2</td>\n",
       "      <td>130</td>\n",
       "    </tr>\n",
       "    <tr>\n",
       "      <th>3</th>\n",
       "      <td>3</td>\n",
       "      <td>3</td>\n",
       "    </tr>\n",
       "    <tr>\n",
       "      <th>4</th>\n",
       "      <td>4</td>\n",
       "      <td>2</td>\n",
       "    </tr>\n",
       "  </tbody>\n",
       "</table>\n",
       "</div>"
      ],
      "text/plain": [
       "   user_id  count\n",
       "0        0     18\n",
       "1        1      8\n",
       "2        2    130\n",
       "3        3      3\n",
       "4        4      2"
      ]
     },
     "execution_count": 31,
     "metadata": {},
     "output_type": "execute_result"
    }
   ],
   "source": [
    "gb.head()"
   ]
  },
  {
   "cell_type": "code",
   "execution_count": 33,
   "metadata": {},
   "outputs": [
    {
     "data": {
      "text/plain": [
       "18"
      ]
     },
     "execution_count": 33,
     "metadata": {},
     "output_type": "execute_result"
    }
   ],
   "source": [
    "gb[gb['user_id']==0][\"count\"][0]"
   ]
  },
  {
   "cell_type": "code",
   "execution_count": 34,
   "metadata": {},
   "outputs": [],
   "source": [
    "gb2 = log_df.groupby(\"user_id\").session_id.nunique().reset_index()"
   ]
  },
  {
   "cell_type": "code",
   "execution_count": 35,
   "metadata": {},
   "outputs": [
    {
     "data": {
      "text/html": [
       "<div>\n",
       "<style scoped>\n",
       "    .dataframe tbody tr th:only-of-type {\n",
       "        vertical-align: middle;\n",
       "    }\n",
       "\n",
       "    .dataframe tbody tr th {\n",
       "        vertical-align: top;\n",
       "    }\n",
       "\n",
       "    .dataframe thead th {\n",
       "        text-align: right;\n",
       "    }\n",
       "</style>\n",
       "<table border=\"1\" class=\"dataframe\">\n",
       "  <thead>\n",
       "    <tr style=\"text-align: right;\">\n",
       "      <th></th>\n",
       "      <th>user_id</th>\n",
       "      <th>session_id</th>\n",
       "    </tr>\n",
       "  </thead>\n",
       "  <tbody>\n",
       "    <tr>\n",
       "      <th>0</th>\n",
       "      <td>0</td>\n",
       "      <td>11</td>\n",
       "    </tr>\n",
       "    <tr>\n",
       "      <th>1</th>\n",
       "      <td>1</td>\n",
       "      <td>3</td>\n",
       "    </tr>\n",
       "    <tr>\n",
       "      <th>2</th>\n",
       "      <td>2</td>\n",
       "      <td>37</td>\n",
       "    </tr>\n",
       "    <tr>\n",
       "      <th>3</th>\n",
       "      <td>3</td>\n",
       "      <td>1</td>\n",
       "    </tr>\n",
       "    <tr>\n",
       "      <th>4</th>\n",
       "      <td>4</td>\n",
       "      <td>1</td>\n",
       "    </tr>\n",
       "  </tbody>\n",
       "</table>\n",
       "</div>"
      ],
      "text/plain": [
       "   user_id  session_id\n",
       "0        0          11\n",
       "1        1           3\n",
       "2        2          37\n",
       "3        3           1\n",
       "4        4           1"
      ]
     },
     "execution_count": 35,
     "metadata": {},
     "output_type": "execute_result"
    }
   ],
   "source": [
    "gb2.head()"
   ]
  },
  {
   "cell_type": "code",
   "execution_count": 27,
   "metadata": {},
   "outputs": [
    {
     "data": {
      "text/html": [
       "<div>\n",
       "<style scoped>\n",
       "    .dataframe tbody tr th:only-of-type {\n",
       "        vertical-align: middle;\n",
       "    }\n",
       "\n",
       "    .dataframe tbody tr th {\n",
       "        vertical-align: top;\n",
       "    }\n",
       "\n",
       "    .dataframe thead th {\n",
       "        text-align: right;\n",
       "    }\n",
       "</style>\n",
       "<table border=\"1\" class=\"dataframe\">\n",
       "  <thead>\n",
       "    <tr style=\"text-align: right;\">\n",
       "      <th></th>\n",
       "      <th>user_id</th>\n",
       "      <th>count</th>\n",
       "    </tr>\n",
       "  </thead>\n",
       "  <tbody>\n",
       "    <tr>\n",
       "      <th>0</th>\n",
       "      <td>0</td>\n",
       "      <td>42</td>\n",
       "    </tr>\n",
       "    <tr>\n",
       "      <th>1</th>\n",
       "      <td>1</td>\n",
       "      <td>8</td>\n",
       "    </tr>\n",
       "    <tr>\n",
       "      <th>2</th>\n",
       "      <td>2</td>\n",
       "      <td>165</td>\n",
       "    </tr>\n",
       "    <tr>\n",
       "      <th>3</th>\n",
       "      <td>3</td>\n",
       "      <td>8</td>\n",
       "    </tr>\n",
       "    <tr>\n",
       "      <th>4</th>\n",
       "      <td>4</td>\n",
       "      <td>2</td>\n",
       "    </tr>\n",
       "  </tbody>\n",
       "</table>\n",
       "</div>"
      ],
      "text/plain": [
       "   user_id  count\n",
       "0        0     42\n",
       "1        1      8\n",
       "2        2    165\n",
       "3        3      8\n",
       "4        4      2"
      ]
     },
     "execution_count": 27,
     "metadata": {},
     "output_type": "execute_result"
    }
   ],
   "source": [
    "gb3 = log_df.groupby(\"user_id\").size().reset_index().rename(columns={0:'count'})\n",
    "gb3.head()"
   ]
  },
  {
   "cell_type": "code",
   "execution_count": null,
   "metadata": {},
   "outputs": [],
   "source": [
    "item_df.columns"
   ]
  },
  {
   "cell_type": "code",
   "execution_count": null,
   "metadata": {},
   "outputs": [],
   "source": [
    "train_df.user_id[:5]"
   ]
  },
  {
   "cell_type": "code",
   "execution_count": null,
   "metadata": {},
   "outputs": [],
   "source": [
    "train_df[train_df[\"user_id\"]==87862]"
   ]
  },
  {
   "cell_type": "code",
   "execution_count": null,
   "metadata": {
    "scrolled": true
   },
   "outputs": [],
   "source": [
    "log_df[log_df[\"user_id\"]==71748][\"session_id\"].value_counts()"
   ]
  },
  {
   "cell_type": "code",
   "execution_count": null,
   "metadata": {},
   "outputs": [],
   "source": [
    "log_df[log_df[\"user_id\"]==71748][\"item_id\"].value_counts()"
   ]
  },
  {
   "cell_type": "code",
   "execution_count": null,
   "metadata": {},
   "outputs": [],
   "source": [
    "train_df.app_code.value_counts()"
   ]
  },
  {
   "cell_type": "code",
   "execution_count": null,
   "metadata": {},
   "outputs": [],
   "source": [
    "# train_df[train_df[\"user_id\"]==63410]"
   ]
  },
  {
   "cell_type": "code",
   "execution_count": null,
   "metadata": {},
   "outputs": [],
   "source": []
  },
  {
   "cell_type": "code",
   "execution_count": null,
   "metadata": {},
   "outputs": [],
   "source": [
    "train_df_2 = pd.DataFrame(train_df[[\"user_id\"]].user_id.unique(),columns=[\"user_id\"])"
   ]
  },
  {
   "cell_type": "code",
   "execution_count": null,
   "metadata": {},
   "outputs": [],
   "source": [
    "train_df_2.shape"
   ]
  },
  {
   "cell_type": "code",
   "execution_count": null,
   "metadata": {},
   "outputs": [],
   "source": [
    "merge_1 = pd.merge(train_df_2,log_df,on=\"user_id\")"
   ]
  },
  {
   "cell_type": "code",
   "execution_count": null,
   "metadata": {},
   "outputs": [],
   "source": [
    "merge_1.shape"
   ]
  },
  {
   "cell_type": "code",
   "execution_count": null,
   "metadata": {},
   "outputs": [],
   "source": [
    "merge_2 = pd.merge(merge_1,item_df, on=\"item_id\")"
   ]
  },
  {
   "cell_type": "code",
   "execution_count": null,
   "metadata": {},
   "outputs": [],
   "source": [
    "merge_2.shape"
   ]
  },
  {
   "cell_type": "code",
   "execution_count": null,
   "metadata": {},
   "outputs": [],
   "source": [
    "a = merge_2.groupby(\"user_id\").item_price.sum().reset_index()\n",
    "a.shape, a.columns"
   ]
  },
  {
   "cell_type": "code",
   "execution_count": null,
   "metadata": {},
   "outputs": [],
   "source": [
    "_t = pd.merge(train_df,a, on=\"user_id\")\n",
    "_t.shape"
   ]
  },
  {
   "cell_type": "code",
   "execution_count": null,
   "metadata": {},
   "outputs": [],
   "source": [
    "_t.head(10)"
   ]
  },
  {
   "cell_type": "code",
   "execution_count": null,
   "metadata": {},
   "outputs": [],
   "source": [
    "z[z[\"user_id\"]==135].sum()"
   ]
  },
  {
   "cell_type": "code",
   "execution_count": null,
   "metadata": {},
   "outputs": [],
   "source": [
    "z.groupby(\"user_id\").item_price.sum().reset_index()"
   ]
  },
  {
   "cell_type": "code",
   "execution_count": null,
   "metadata": {},
   "outputs": [],
   "source": []
  },
  {
   "cell_type": "code",
   "execution_count": null,
   "metadata": {},
   "outputs": [],
   "source": []
  },
  {
   "cell_type": "code",
   "execution_count": null,
   "metadata": {},
   "outputs": [],
   "source": []
  },
  {
   "cell_type": "code",
   "execution_count": null,
   "metadata": {},
   "outputs": [],
   "source": [
    "%matplotlib inline"
   ]
  },
  {
   "cell_type": "code",
   "execution_count": null,
   "metadata": {
    "scrolled": true
   },
   "outputs": [],
   "source": [
    "l1 = merge_2.item_price.value_counts()"
   ]
  },
  {
   "cell_type": "code",
   "execution_count": null,
   "metadata": {},
   "outputs": [],
   "source": [
    "l1"
   ]
  },
  {
   "cell_type": "code",
   "execution_count": null,
   "metadata": {},
   "outputs": [],
   "source": [
    "merge_2.item_price.max()"
   ]
  },
  {
   "cell_type": "code",
   "execution_count": null,
   "metadata": {},
   "outputs": [],
   "source": [
    "merge_2.hist(column=[\"item_price\"],bins=)"
   ]
  },
  {
   "cell_type": "code",
   "execution_count": null,
   "metadata": {},
   "outputs": [],
   "source": []
  },
  {
   "cell_type": "code",
   "execution_count": null,
   "metadata": {},
   "outputs": [],
   "source": []
  },
  {
   "cell_type": "code",
   "execution_count": null,
   "metadata": {},
   "outputs": [],
   "source": []
  },
  {
   "cell_type": "code",
   "execution_count": null,
   "metadata": {},
   "outputs": [],
   "source": []
  },
  {
   "cell_type": "code",
   "execution_count": null,
   "metadata": {},
   "outputs": [],
   "source": [
    "gb = log_df.groupby(\"user_id\").size().reset_index().rename(columns={0:'count'})"
   ]
  },
  {
   "cell_type": "code",
   "execution_count": null,
   "metadata": {},
   "outputs": [],
   "source": [
    "def get_session_count(x):\n",
    "    #print(x)\n",
    "    _x = list(gb[gb[\"user_id\"]==x][\"count\"])[0]\n",
    "    return _x"
   ]
  },
  {
   "cell_type": "code",
   "execution_count": null,
   "metadata": {},
   "outputs": [],
   "source": [
    "train_df[\"session_count\"] = train_df[\"user_id\"].apply(lambda x: get_session_count(x))"
   ]
  },
  {
   "cell_type": "code",
   "execution_count": null,
   "metadata": {
    "scrolled": true
   },
   "outputs": [],
   "source": [
    "# train_df.groupby([\"user_id\", \"app_code\", \"is_click\"]).size().reset_index().rename(columns={0:'count'})"
   ]
  },
  {
   "cell_type": "code",
   "execution_count": null,
   "metadata": {},
   "outputs": [],
   "source": [
    "train_df.head()"
   ]
  },
  {
   "cell_type": "code",
   "execution_count": null,
   "metadata": {},
   "outputs": [],
   "source": [
    "train_df.shape"
   ]
  },
  {
   "cell_type": "code",
   "execution_count": null,
   "metadata": {},
   "outputs": [],
   "source": [
    "train_df.is_click.value_counts()"
   ]
  },
  {
   "cell_type": "code",
   "execution_count": null,
   "metadata": {},
   "outputs": [],
   "source": [
    "train_df.os_version.value_counts()"
   ]
  },
  {
   "cell_type": "code",
   "execution_count": null,
   "metadata": {},
   "outputs": [],
   "source": [
    "train_df.is_4G.value_counts()"
   ]
  },
  {
   "cell_type": "code",
   "execution_count": null,
   "metadata": {},
   "outputs": [],
   "source": []
  },
  {
   "cell_type": "code",
   "execution_count": null,
   "metadata": {},
   "outputs": [],
   "source": [
    "del train_df[\"impression_id\"]\n",
    "train_df.columns"
   ]
  },
  {
   "cell_type": "code",
   "execution_count": null,
   "metadata": {},
   "outputs": [],
   "source": [
    "train_df[\"impression_time\"] = pd.to_datetime(train_df[\"impression_time\"])"
   ]
  },
  {
   "cell_type": "code",
   "execution_count": null,
   "metadata": {},
   "outputs": [],
   "source": [
    "train_df[\"impression_day\"] = train_df[\"impression_time\"].dt.day\n",
    "train_df.shape"
   ]
  },
  {
   "cell_type": "code",
   "execution_count": null,
   "metadata": {},
   "outputs": [],
   "source": [
    "train_df[\"impression_month\"] = train_df[\"impression_time\"].dt.month\n",
    "train_df[\"impression_year\"] = train_df[\"impression_time\"].dt.year"
   ]
  },
  {
   "cell_type": "code",
   "execution_count": null,
   "metadata": {},
   "outputs": [],
   "source": [
    "train_df[\"impression_week\"] = train_df[\"impression_time\"].dt.week\n",
    "train_df[\"impression_day_week\"] = train_df[\"impression_time\"].dt.dayofweek"
   ]
  },
  {
   "cell_type": "code",
   "execution_count": null,
   "metadata": {},
   "outputs": [],
   "source": [
    "train_df[\"impression_hour\"] = train_df[\"impression_time\"].dt.hour\n",
    "train_df[\"impression_minute\"] = train_df[\"impression_time\"].dt.minute"
   ]
  },
  {
   "cell_type": "code",
   "execution_count": null,
   "metadata": {},
   "outputs": [],
   "source": [
    "train_df.impression_time.value_counts()"
   ]
  },
  {
   "cell_type": "code",
   "execution_count": null,
   "metadata": {},
   "outputs": [],
   "source": [
    "del train_df[\"impression_time\"]"
   ]
  },
  {
   "cell_type": "code",
   "execution_count": null,
   "metadata": {},
   "outputs": [],
   "source": [
    "del train_df[\"user_id\"]"
   ]
  },
  {
   "cell_type": "code",
   "execution_count": null,
   "metadata": {},
   "outputs": [],
   "source": [
    "y_train = train_df[\"is_click\"]\n",
    "del train_df[\"is_click\"]"
   ]
  },
  {
   "cell_type": "code",
   "execution_count": null,
   "metadata": {},
   "outputs": [],
   "source": [
    "y_train.value_counts()"
   ]
  },
  {
   "cell_type": "code",
   "execution_count": null,
   "metadata": {},
   "outputs": [],
   "source": [
    "from sklearn.preprocessing import LabelEncoder\n",
    "le = LabelEncoder()"
   ]
  },
  {
   "cell_type": "code",
   "execution_count": null,
   "metadata": {},
   "outputs": [],
   "source": [
    "train_df[\"app_code\"] = le.fit_transform(train_df[\"app_code\"])"
   ]
  },
  {
   "cell_type": "code",
   "execution_count": null,
   "metadata": {},
   "outputs": [],
   "source": [
    "train_df.shape"
   ]
  },
  {
   "cell_type": "code",
   "execution_count": null,
   "metadata": {},
   "outputs": [],
   "source": [
    "train_df.impression_year.value_counts()"
   ]
  },
  {
   "cell_type": "code",
   "execution_count": null,
   "metadata": {},
   "outputs": [],
   "source": [
    "del train_df[\"impression_year\"]"
   ]
  },
  {
   "cell_type": "code",
   "execution_count": null,
   "metadata": {},
   "outputs": [],
   "source": [
    "# train_df[\"impression_year\"] = le.fit_transform(train_df[\"impression_year\"])\n",
    "# train_df.shape"
   ]
  },
  {
   "cell_type": "code",
   "execution_count": null,
   "metadata": {},
   "outputs": [],
   "source": [
    "train_df[\"os_version\"] = le.fit_transform(train_df[\"os_version\"])\n",
    "train_df.shape"
   ]
  },
  {
   "cell_type": "code",
   "execution_count": null,
   "metadata": {},
   "outputs": [],
   "source": [
    "from sklearn.model_selection import train_test_split\n",
    "X_train, X_test, y_train, y_test = train_test_split(train_df, y_train, stratify=y_train,\n",
    "                                                        test_size=0.15,random_state=1234)"
   ]
  },
  {
   "cell_type": "code",
   "execution_count": null,
   "metadata": {},
   "outputs": [],
   "source": [
    "y_train.value_counts(), y_test.value_counts()"
   ]
  },
  {
   "cell_type": "code",
   "execution_count": null,
   "metadata": {},
   "outputs": [],
   "source": [
    "from xgboost import XGBClassifier\n",
    "alg = XGBClassifier(learning_rate=0.1, n_estimators=140, max_depth=7,\n",
    "                        min_child_weight=3, gamma=0.2, subsample=0.6, colsample_bytree=1.0,\n",
    "                        objective='binary:logistic', nthread=4, scale_pos_weight=1, seed=27)"
   ]
  },
  {
   "cell_type": "code",
   "execution_count": null,
   "metadata": {},
   "outputs": [],
   "source": [
    "import xgboost as xgb\n",
    "cv_folds=10\n",
    "xgb_param = alg.get_xgb_params()\n",
    "xgtrain = xgb.DMatrix(X_train.values, label=y_train.values)\n",
    "# xgtest = xgb.DMatrix(X_test.values, label=y_test.values)\n",
    "cvresult = xgb.cv(xgb_param, xgtrain, num_boost_round=alg.get_params()['n_estimators'], nfold=cv_folds,\n",
    "                          early_stopping_rounds=50)\n",
    "alg.set_params(n_estimators=cvresult.shape[0])\n",
    "alg.fit(X_train, y_train,verbose=True, eval_metric='auc')"
   ]
  },
  {
   "cell_type": "code",
   "execution_count": null,
   "metadata": {},
   "outputs": [],
   "source": [
    "from sklearn.metrics import roc_auc_score\n",
    "val_pred = alg.predict_proba(X_test)[:, 1]\n",
    "roc_auc_score(y_test,val_pred)"
   ]
  },
  {
   "cell_type": "code",
   "execution_count": null,
   "metadata": {},
   "outputs": [],
   "source": [
    "test_df = pd.read_csv(\"./test.csv\")"
   ]
  },
  {
   "cell_type": "code",
   "execution_count": null,
   "metadata": {},
   "outputs": [],
   "source": [
    "test_df[\"session_count\"] = test_df[\"user_id\"].apply(lambda x: get_session_count(x))"
   ]
  },
  {
   "cell_type": "code",
   "execution_count": null,
   "metadata": {},
   "outputs": [],
   "source": [
    "impr_id = test_df[\"impression_id\"]\n",
    "del test_df[\"impression_id\"]"
   ]
  },
  {
   "cell_type": "code",
   "execution_count": null,
   "metadata": {},
   "outputs": [],
   "source": [
    "test_df[\"impression_time\"] = pd.to_datetime(test_df[\"impression_time\"])\n",
    "test_df[\"impression_day\"] = test_df[\"impression_time\"].dt.day\n",
    "test_df[\"impression_month\"] = test_df[\"impression_time\"].dt.month\n",
    "# test_df[\"impression_year\"] = test_df[\"impression_time\"].dt.year\n",
    "test_df[\"impression_week\"] = test_df[\"impression_time\"].dt.week\n",
    "test_df[\"impression_day_week\"] = test_df[\"impression_time\"].dt.dayofweek\n",
    "test_df[\"impression_hour\"] = test_df[\"impression_time\"].dt.hour\n",
    "test_df[\"impression_minute\"] = test_df[\"impression_time\"].dt.minute"
   ]
  },
  {
   "cell_type": "code",
   "execution_count": null,
   "metadata": {},
   "outputs": [],
   "source": [
    "test_df[\"app_code\"] = le.fit_transform(test_df[\"app_code\"])\n",
    "# test_df[\"impression_year\"] = le.fit_transform(test_df[\"impression_year\"])"
   ]
  },
  {
   "cell_type": "code",
   "execution_count": null,
   "metadata": {},
   "outputs": [],
   "source": [
    "test_df[\"os_version\"] = le.fit_transform(test_df[\"os_version\"])"
   ]
  },
  {
   "cell_type": "code",
   "execution_count": null,
   "metadata": {},
   "outputs": [],
   "source": [
    "test_df.columns"
   ]
  },
  {
   "cell_type": "code",
   "execution_count": null,
   "metadata": {},
   "outputs": [],
   "source": [
    "user_id = test_df[\"user_id\"]\n",
    "del test_df[\"user_id\"]"
   ]
  },
  {
   "cell_type": "code",
   "execution_count": null,
   "metadata": {},
   "outputs": [],
   "source": [
    "del test_df[\"impression_time\"]"
   ]
  },
  {
   "cell_type": "code",
   "execution_count": null,
   "metadata": {},
   "outputs": [],
   "source": [
    "pred = alg.predict_proba(test_df)[:,1]\n",
    "pred.shape"
   ]
  },
  {
   "cell_type": "code",
   "execution_count": null,
   "metadata": {},
   "outputs": [],
   "source": []
  },
  {
   "cell_type": "code",
   "execution_count": null,
   "metadata": {},
   "outputs": [],
   "source": [
    "pred.sum()"
   ]
  },
  {
   "cell_type": "code",
   "execution_count": null,
   "metadata": {},
   "outputs": [],
   "source": [
    "pred[:10]"
   ]
  },
  {
   "cell_type": "code",
   "execution_count": null,
   "metadata": {},
   "outputs": [],
   "source": [
    "impr_id[:10]"
   ]
  },
  {
   "cell_type": "code",
   "execution_count": null,
   "metadata": {},
   "outputs": [],
   "source": [
    "sub_df = pd.DataFrame(list(zip(impr_id,pred)), columns=[\"impression_id\", \"is_click\"])"
   ]
  },
  {
   "cell_type": "code",
   "execution_count": null,
   "metadata": {},
   "outputs": [],
   "source": [
    "sub_df.head()"
   ]
  },
  {
   "cell_type": "code",
   "execution_count": null,
   "metadata": {},
   "outputs": [],
   "source": [
    "sub_df.to_csv(\"sub_04.csv\", index=False)"
   ]
  },
  {
   "cell_type": "code",
   "execution_count": null,
   "metadata": {},
   "outputs": [],
   "source": []
  }
 ],
 "metadata": {
  "kernelspec": {
   "display_name": "Python 3",
   "language": "python",
   "name": "python3"
  },
  "language_info": {
   "codemirror_mode": {
    "name": "ipython",
    "version": 3
   },
   "file_extension": ".py",
   "mimetype": "text/x-python",
   "name": "python",
   "nbconvert_exporter": "python",
   "pygments_lexer": "ipython3",
   "version": "3.6.7"
  }
 },
 "nbformat": 4,
 "nbformat_minor": 2
}
