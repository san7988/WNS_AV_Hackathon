{
 "cells": [
  {
   "cell_type": "code",
   "execution_count": 1,
   "metadata": {},
   "outputs": [],
   "source": [
    "import pandas as pd\n",
    "from sklearn.metrics import roc_auc_score\n",
    "from sklearn.model_selection import train_test_split\n",
    "import xgboost as xgb\n",
    "from sklearn.preprocessing import LabelEncoder\n",
    "from sklearn.model_selection import RandomizedSearchCV, GridSearchCV\n",
    "from sklearn.model_selection import StratifiedKFold\n",
    "from datetime import datetime\n",
    "from tqdm import tqdm"
   ]
  },
  {
   "cell_type": "code",
   "execution_count": 2,
   "metadata": {},
   "outputs": [],
   "source": [
    "def timer(start_time=None):\n",
    "    if not start_time:\n",
    "        start_time = datetime.now()\n",
    "        return start_time\n",
    "    elif start_time:\n",
    "        thour, temp_sec = divmod((datetime.now() - start_time).total_seconds(), 3600)\n",
    "        tmin, tsec = divmod(temp_sec, 60)\n",
    "        print('\\n Time taken: %i hours %i minutes and %s seconds.' % (thour, tmin, round(tsec, 2)))"
   ]
  },
  {
   "cell_type": "code",
   "execution_count": 3,
   "metadata": {},
   "outputs": [],
   "source": [
    "train_df = pd.read_csv(\"./train.csv\")"
   ]
  },
  {
   "cell_type": "code",
   "execution_count": 4,
   "metadata": {},
   "outputs": [],
   "source": [
    "log_df = pd.read_csv(\"./view_log.csv\")"
   ]
  },
  {
   "cell_type": "code",
   "execution_count": 5,
   "metadata": {},
   "outputs": [],
   "source": [
    "item_df = pd.read_csv(\"./item_data.csv\")"
   ]
  },
  {
   "cell_type": "code",
   "execution_count": 6,
   "metadata": {},
   "outputs": [],
   "source": [
    "test_df = pd.read_csv(\"./test.csv\")"
   ]
  },
  {
   "cell_type": "code",
   "execution_count": 7,
   "metadata": {},
   "outputs": [],
   "source": [
    "# log_item_df = pd.merge(log_df, item_df,on=\"item_id\")"
   ]
  },
  {
   "cell_type": "code",
   "execution_count": 8,
   "metadata": {
    "scrolled": false
   },
   "outputs": [
    {
     "data": {
      "text/plain": [
       "(Index(['impression_id', 'impression_time', 'user_id', 'app_code', 'os_version',\n",
       "        'is_4G', 'is_click'],\n",
       "       dtype='object'),\n",
       " Index(['server_time', 'device_type', 'session_id', 'user_id', 'item_id'], dtype='object'),\n",
       " Index(['item_id', 'item_price', 'category_1', 'category_2', 'category_3',\n",
       "        'product_type'],\n",
       "       dtype='object'))"
      ]
     },
     "execution_count": 8,
     "metadata": {},
     "output_type": "execute_result"
    }
   ],
   "source": [
    "train_df.columns, log_df.columns, item_df.columns"
   ]
  },
  {
   "cell_type": "code",
   "execution_count": 9,
   "metadata": {},
   "outputs": [],
   "source": [
    "num_sessions = log_df.groupby(\"user_id\").size().reset_index().rename(columns={0:'count'})\n",
    "def get_session_count(x):\n",
    "    #print(x)\n",
    "    _x = list(num_sessions[num_sessions[\"user_id\"]==x][\"count\"])[0]\n",
    "    return _x"
   ]
  },
  {
   "cell_type": "code",
   "execution_count": 10,
   "metadata": {},
   "outputs": [],
   "source": [
    "num_unique_sessions = log_df.groupby(\"user_id\").session_id.nunique().reset_index().rename(columns={'session_id':'count'})\n",
    "def get_num_unique_sessions(x):\n",
    "    _x = list(num_unique_sessions[num_unique_sessions[\"user_id\"]==x]['count'])[0]\n",
    "    return _x"
   ]
  },
  {
   "cell_type": "code",
   "execution_count": 11,
   "metadata": {},
   "outputs": [],
   "source": [
    "num_unique_item = log_df.groupby(\"user_id\").item_id.nunique().reset_index().rename(columns={'item_id':'count'})\n",
    "def get_num_unique_item(x):\n",
    "    _x = list(num_unique_sessions[num_unique_sessions[\"user_id\"]==x]['count'])[0]\n",
    "    return _x"
   ]
  },
  {
   "cell_type": "code",
   "execution_count": 12,
   "metadata": {},
   "outputs": [
    {
     "name": "stderr",
     "output_type": "stream",
     "text": [
      "/Users/sanjeev/miniconda2/envs/py36/lib/python3.6/site-packages/ipykernel_launcher.py:1: FutureWarning: Sorting because non-concatenation axis is not aligned. A future version\n",
      "of pandas will change to not sort by default.\n",
      "\n",
      "To accept the future behavior, pass 'sort=False'.\n",
      "\n",
      "To retain the current behavior and silence the warning, pass 'sort=True'.\n",
      "\n",
      "  \"\"\"Entry point for launching an IPython kernel.\n"
     ]
    },
    {
     "data": {
      "text/plain": [
       "((328284, 7), (237609, 7), (90675, 6))"
      ]
     },
     "execution_count": 12,
     "metadata": {},
     "output_type": "execute_result"
    }
   ],
   "source": [
    "merged_df = pd.concat([train_df, test_df], axis=0)\n",
    "merged_df.shape, train_df.shape, test_df.shape"
   ]
  },
  {
   "cell_type": "code",
   "execution_count": 13,
   "metadata": {},
   "outputs": [],
   "source": [
    "impr_id = test_df[\"impression_id\"]"
   ]
  },
  {
   "cell_type": "code",
   "execution_count": 14,
   "metadata": {},
   "outputs": [],
   "source": [
    "train_labels = train_df[\"is_click\"]\n"
   ]
  },
  {
   "cell_type": "code",
   "execution_count": 15,
   "metadata": {},
   "outputs": [],
   "source": [
    "merged_df[\"impression_time\"] = pd.to_datetime(merged_df[\"impression_time\"])\n",
    "merged_df[\"impression_day\"] = merged_df[\"impression_time\"].dt.day\n",
    "merged_df[\"impression_month\"] = merged_df[\"impression_time\"].dt.month\n",
    "# merged_df[\"impression_year\"] = merged_df[\"impression_time\"].dt.year\n",
    "merged_df[\"impression_week\"] = merged_df[\"impression_time\"].dt.week\n",
    "merged_df[\"impression_day_week\"] = merged_df[\"impression_time\"].dt.dayofweek\n",
    "merged_df[\"impression_hour\"] = merged_df[\"impression_time\"].dt.hour\n",
    "merged_df[\"impression_minute\"] = merged_df[\"impression_time\"].dt.minute"
   ]
  },
  {
   "cell_type": "code",
   "execution_count": 16,
   "metadata": {},
   "outputs": [],
   "source": [
    "le = LabelEncoder()\n",
    "merged_df[\"app_code\"] = le.fit_transform(merged_df[\"app_code\"])"
   ]
  },
  {
   "cell_type": "code",
   "execution_count": 17,
   "metadata": {},
   "outputs": [],
   "source": [
    "# merged_df[\"os_version\"] = le.fit_transform(merged_df[\"os_version\"])\n"
   ]
  },
  {
   "cell_type": "code",
   "execution_count": 18,
   "metadata": {},
   "outputs": [],
   "source": [
    "merged_df[\"session_count\"] = merged_df[\"user_id\"].apply(lambda x: get_session_count(x))"
   ]
  },
  {
   "cell_type": "code",
   "execution_count": 19,
   "metadata": {},
   "outputs": [],
   "source": [
    "merged_df[\"unique_session\"] = merged_df[\"user_id\"].apply(lambda x: get_num_unique_sessions(x))"
   ]
  },
  {
   "cell_type": "code",
   "execution_count": 20,
   "metadata": {},
   "outputs": [],
   "source": [
    "merged_df[\"unique_item\"] = merged_df[\"user_id\"].apply(lambda x: get_num_unique_item(x))"
   ]
  },
  {
   "cell_type": "code",
   "execution_count": 21,
   "metadata": {},
   "outputs": [
    {
     "data": {
      "text/plain": [
       "(Index(['app_code', 'impression_id', 'impression_time', 'is_4G', 'is_click',\n",
       "        'user_id', 'impression_day', 'impression_month', 'impression_week',\n",
       "        'impression_day_week', 'impression_hour', 'impression_minute',\n",
       "        'session_count', 'unique_session', 'unique_item'],\n",
       "       dtype='object'), (328284, 15))"
      ]
     },
     "execution_count": 21,
     "metadata": {},
     "output_type": "execute_result"
    }
   ],
   "source": [
    "merged_df.columns, merged_df.shape"
   ]
  },
  {
   "cell_type": "code",
   "execution_count": 22,
   "metadata": {},
   "outputs": [],
   "source": [
    "merged_df.to_csv(\"./merged_step_1.csv\", index=False)"
   ]
  },
  {
   "cell_type": "code",
   "execution_count": 113,
   "metadata": {},
   "outputs": [
    {
     "data": {
      "text/plain": [
       "Index(['app_code', 'impression_id', 'impression_time', 'is_4G', 'is_click',\n",
       "       'user_id', 'impression_day', 'impression_month', 'impression_week',\n",
       "       'impression_day_week', 'impression_hour', 'impression_minute',\n",
       "       'session_count', 'unique_session', 'unique_item'],\n",
       "      dtype='object')"
      ]
     },
     "execution_count": 113,
     "metadata": {},
     "output_type": "execute_result"
    }
   ],
   "source": [
    "merged_df = pd.read_csv(\"./merged_step_1.csv\")\n",
    "merged_df.columns"
   ]
  },
  {
   "cell_type": "code",
   "execution_count": 114,
   "metadata": {},
   "outputs": [],
   "source": [
    "train_df_shape = (237609,7)"
   ]
  },
  {
   "cell_type": "code",
   "execution_count": 115,
   "metadata": {},
   "outputs": [
    {
     "data": {
      "text/plain": [
       "((328284, 15), (237609, 15), (90675, 15))"
      ]
     },
     "execution_count": 115,
     "metadata": {},
     "output_type": "execute_result"
    }
   ],
   "source": [
    "train_df = merged_df.iloc[:train_df_shape[0],:]\n",
    "test_df = merged_df.iloc[train_df_shape[0]:,:]\n",
    "merged_df.shape, train_df.shape, test_df.shape"
   ]
  },
  {
   "cell_type": "code",
   "execution_count": 116,
   "metadata": {},
   "outputs": [
    {
     "data": {
      "text/plain": [
       "(11052882, 19)"
      ]
     },
     "execution_count": 116,
     "metadata": {},
     "output_type": "execute_result"
    }
   ],
   "source": [
    "df1 = pd.merge(train_df,log_df, on=\"user_id\")\n",
    "df1.shape"
   ]
  },
  {
   "cell_type": "code",
   "execution_count": 117,
   "metadata": {},
   "outputs": [],
   "source": [
    "df1[\"impression_date\"] = pd.to_datetime(df1[\"impression_time\"]).dt.date\n",
    "df1[\"server_date\"] = pd.to_datetime(df1[\"server_time\"]).dt.date"
   ]
  },
  {
   "cell_type": "code",
   "execution_count": 118,
   "metadata": {},
   "outputs": [],
   "source": [
    "df1[\"diff\"] = (df1[\"impression_date\"]-df1[\"server_date\"]).dt.days\n",
    "df1 = df1[df1[\"diff\"]>0]"
   ]
  },
  {
   "cell_type": "code",
   "execution_count": 119,
   "metadata": {},
   "outputs": [],
   "source": [
    "df1 = df1.loc[df1.groupby([\"impression_time\", \"user_id\"])[\"diff\"].idxmin()]"
   ]
  },
  {
   "cell_type": "code",
   "execution_count": 120,
   "metadata": {},
   "outputs": [],
   "source": [
    "df1.reset_indext_indext_index(inplace=True, drop=True)"
   ]
  },
  {
   "cell_type": "code",
   "execution_count": 121,
   "metadata": {},
   "outputs": [
    {
     "data": {
      "text/plain": [
       "((237609, 15), (231477, 22))"
      ]
     },
     "execution_count": 121,
     "metadata": {},
     "output_type": "execute_result"
    }
   ],
   "source": [
    "train_df.shape, df1.shape"
   ]
  },
  {
   "cell_type": "code",
   "execution_count": 122,
   "metadata": {},
   "outputs": [],
   "source": [
    "df2 = pd.merge(test_df,log_df, on=\"user_id\")"
   ]
  },
  {
   "cell_type": "code",
   "execution_count": 123,
   "metadata": {},
   "outputs": [],
   "source": [
    "df2[\"impression_date\"] = pd.to_datetime(df2[\"impression_time\"]).dt.date\n",
    "df2[\"server_date\"] = pd.to_datetime(df2[\"server_time\"]).dt.date"
   ]
  },
  {
   "cell_type": "code",
   "execution_count": 124,
   "metadata": {},
   "outputs": [],
   "source": [
    "df2[\"diff\"] = (df2[\"impression_date\"] - df2[\"server_date\"]).dt.days\n",
    "df2 = df2[df2[\"diff\"]>0]"
   ]
  },
  {
   "cell_type": "code",
   "execution_count": 125,
   "metadata": {},
   "outputs": [],
   "source": [
    "df2 = df2.loc[df2.groupby([\"impression_time\", \"user_id\"])[\"diff\"].idxmin()]"
   ]
  },
  {
   "cell_type": "code",
   "execution_count": 126,
   "metadata": {},
   "outputs": [],
   "source": [
    "df2.reset_index(inplace=True, drop=True)"
   ]
  },
  {
   "cell_type": "code",
   "execution_count": 127,
   "metadata": {},
   "outputs": [
    {
     "data": {
      "text/plain": [
       "((90675, 15), (90373, 22))"
      ]
     },
     "execution_count": 127,
     "metadata": {},
     "output_type": "execute_result"
    }
   ],
   "source": [
    "test_df.shape, df2.shape"
   ]
  },
  {
   "cell_type": "code",
   "execution_count": 128,
   "metadata": {},
   "outputs": [],
   "source": [
    "id_not_present_in_test = list(set(list(test_df.impression_id)) - set(list(df2.impression_id)))"
   ]
  },
  {
   "cell_type": "code",
   "execution_count": 129,
   "metadata": {},
   "outputs": [
    {
     "data": {
      "text/plain": [
       "302"
      ]
     },
     "execution_count": 129,
     "metadata": {},
     "output_type": "execute_result"
    }
   ],
   "source": [
    "# item_price = log_item_df.groupby(\"user_id\").item_price.mean().reset_index()\n",
    "len(id_not_present_in_test)"
   ]
  },
  {
   "cell_type": "code",
   "execution_count": 130,
   "metadata": {},
   "outputs": [
    {
     "data": {
      "text/plain": [
       "((321850, 22), (231477, 22), (90373, 22))"
      ]
     },
     "execution_count": 130,
     "metadata": {},
     "output_type": "execute_result"
    }
   ],
   "source": [
    "merged_step_2_df = pd.concat([df1, df2], axis=0)\n",
    "merged_step_2_df.shape, df1.shape, df2.shape"
   ]
  },
  {
   "cell_type": "code",
   "execution_count": 131,
   "metadata": {},
   "outputs": [
    {
     "data": {
      "text/plain": [
       "Index(['app_code', 'impression_id', 'impression_time', 'is_4G', 'is_click',\n",
       "       'user_id', 'impression_day', 'impression_month', 'impression_week',\n",
       "       'impression_day_week', 'impression_hour', 'impression_minute',\n",
       "       'session_count', 'unique_session', 'unique_item', 'server_time',\n",
       "       'device_type', 'session_id', 'item_id', 'impression_date',\n",
       "       'server_date', 'diff'],\n",
       "      dtype='object')"
      ]
     },
     "execution_count": 131,
     "metadata": {},
     "output_type": "execute_result"
    }
   ],
   "source": [
    "merged_step_2_df.columns"
   ]
  },
  {
   "cell_type": "code",
   "execution_count": 132,
   "metadata": {},
   "outputs": [],
   "source": [
    "merged_step_2_df = pd.merge(merged_step_2_df, item_df, on=\"item_id\", how=\"left\")"
   ]
  },
  {
   "cell_type": "code",
   "execution_count": 133,
   "metadata": {},
   "outputs": [
    {
     "data": {
      "text/plain": [
       "{8236,\n",
       " 13054,\n",
       " 19919,\n",
       " 26822,\n",
       " 35796,\n",
       " 44868,\n",
       " 62896,\n",
       " 63773,\n",
       " 72294,\n",
       " 79532,\n",
       " 91436,\n",
       " 103132,\n",
       " 105071,\n",
       " 114373,\n",
       " 122449,\n",
       " 127479}"
      ]
     },
     "execution_count": 133,
     "metadata": {},
     "output_type": "execute_result"
    }
   ],
   "source": [
    "set(list(merged_step_2_df.item_id.values)) - set(list(item_df.item_id.values))"
   ]
  },
  {
   "cell_type": "code",
   "execution_count": 134,
   "metadata": {},
   "outputs": [
    {
     "data": {
      "text/plain": [
       "((321850, 27), (231477, 22), (90373, 22))"
      ]
     },
     "execution_count": 134,
     "metadata": {},
     "output_type": "execute_result"
    }
   ],
   "source": [
    "merged_step_2_df.shape, df1.shape, df2.shape"
   ]
  },
  {
   "cell_type": "code",
   "execution_count": 135,
   "metadata": {},
   "outputs": [],
   "source": [
    "# merged_step_2_df.isnull().any()"
   ]
  },
  {
   "cell_type": "code",
   "execution_count": 136,
   "metadata": {},
   "outputs": [],
   "source": [
    "merged_step_2_df.item_price.fillna(2944,inplace=True)\n",
    "merged_step_2_df.category_1.fillna(9,inplace=True)\n",
    "merged_step_2_df.category_2.fillna(38,inplace=True)\n",
    "merged_step_2_df.category_3.fillna(62,inplace=True)\n",
    "merged_step_2_df.product_type.fillna(2874,inplace=True)"
   ]
  },
  {
   "cell_type": "code",
   "execution_count": 137,
   "metadata": {},
   "outputs": [
    {
     "data": {
      "text/plain": [
       "((237609, 15),\n",
       " Index(['app_code', 'impression_id', 'impression_time', 'is_4G', 'is_click',\n",
       "        'user_id', 'impression_day', 'impression_month', 'impression_week',\n",
       "        'impression_day_week', 'impression_hour', 'impression_minute',\n",
       "        'session_count', 'unique_session', 'unique_item'],\n",
       "       dtype='object'),\n",
       " (231477, 22),\n",
       " Index(['app_code', 'impression_id', 'impression_time', 'is_4G', 'is_click',\n",
       "        'user_id', 'impression_day', 'impression_month', 'impression_week',\n",
       "        'impression_day_week', 'impression_hour', 'impression_minute',\n",
       "        'session_count', 'unique_session', 'unique_item', 'server_time',\n",
       "        'device_type', 'session_id', 'item_id', 'impression_date',\n",
       "        'server_date', 'diff'],\n",
       "       dtype='object'))"
      ]
     },
     "execution_count": 137,
     "metadata": {},
     "output_type": "execute_result"
    }
   ],
   "source": [
    "train_df.shape, train_df.columns, df1.shape, df1.columns"
   ]
  },
  {
   "cell_type": "code",
   "execution_count": 138,
   "metadata": {},
   "outputs": [],
   "source": [
    "temp_df = pd.merge(df1, train_df, on=\"impression_id\", how=\"left\")\n",
    "_train_labels = temp_df[\"is_click_x\"]"
   ]
  },
  {
   "cell_type": "code",
   "execution_count": 139,
   "metadata": {
    "scrolled": true
   },
   "outputs": [
    {
     "data": {
      "text/plain": [
       "Index(['app_code', 'impression_id', 'impression_time', 'is_4G', 'is_click',\n",
       "       'user_id', 'impression_day', 'impression_month', 'impression_week',\n",
       "       'impression_day_week', 'impression_hour', 'impression_minute',\n",
       "       'session_count', 'unique_session', 'unique_item', 'server_time',\n",
       "       'device_type', 'session_id', 'item_id', 'impression_date',\n",
       "       'server_date', 'diff', 'item_price', 'category_1', 'category_2',\n",
       "       'category_3', 'product_type'],\n",
       "      dtype='object')"
      ]
     },
     "execution_count": 139,
     "metadata": {},
     "output_type": "execute_result"
    }
   ],
   "source": [
    "merged_step_2_df.columns"
   ]
  },
  {
   "cell_type": "code",
   "execution_count": 140,
   "metadata": {
    "scrolled": true
   },
   "outputs": [],
   "source": [
    "del merged_step_2_df[\"impression_id\"]\n",
    "del merged_step_2_df[\"impression_time\"]\n",
    "del merged_step_2_df[\"user_id\"]\n",
    "del merged_step_2_df[\"session_id\"]\n",
    "del merged_step_2_df[\"impression_date\"]\n",
    "del merged_step_2_df[\"server_date\"]\n",
    "# del merged_step_2_df[\"diff\"]\n",
    "del merged_step_2_df[\"server_time\"]\n",
    "del merged_step_2_df[\"device_type\"]\n",
    "del merged_step_2_df[\"is_click\"]\n",
    "# del merged_step_2_df[\"os_version\"]"
   ]
  },
  {
   "cell_type": "code",
   "execution_count": 141,
   "metadata": {},
   "outputs": [],
   "source": [
    "del merged_step_2_df[\"item_id\"]"
   ]
  },
  {
   "cell_type": "code",
   "execution_count": 200,
   "metadata": {},
   "outputs": [],
   "source": [
    "labels_to_encode = [\"category_1\", \"category_2\", \"category_3\", \"product_type\"]\n",
    "for l in labels_to_encode:\n",
    "    le = LabelEncoder()\n",
    "    merged_step_2_df[l] = le.fit_transform(merged_step_2_df[l])"
   ]
  },
  {
   "cell_type": "code",
   "execution_count": 201,
   "metadata": {},
   "outputs": [],
   "source": [
    "merged_step_2_df.reset_index(drop=True,inplace=True)"
   ]
  },
  {
   "cell_type": "code",
   "execution_count": 202,
   "metadata": {},
   "outputs": [
    {
     "data": {
      "text/plain": [
       "((321850, 16), (231477, 16), (90373, 16), (231477,))"
      ]
     },
     "execution_count": 202,
     "metadata": {},
     "output_type": "execute_result"
    }
   ],
   "source": [
    "_df1 = merged_step_2_df.iloc[:df1.shape[0],:]\n",
    "_df2 = merged_step_2_df.iloc[df1.shape[0]:,:]\n",
    "merged_step_2_df.shape, _df1.shape, _df2.shape, _train_labels.shape"
   ]
  },
  {
   "cell_type": "code",
   "execution_count": 167,
   "metadata": {},
   "outputs": [
    {
     "data": {
      "text/html": [
       "<div>\n",
       "<style scoped>\n",
       "    .dataframe tbody tr th:only-of-type {\n",
       "        vertical-align: middle;\n",
       "    }\n",
       "\n",
       "    .dataframe tbody tr th {\n",
       "        vertical-align: top;\n",
       "    }\n",
       "\n",
       "    .dataframe thead th {\n",
       "        text-align: right;\n",
       "    }\n",
       "</style>\n",
       "<table border=\"1\" class=\"dataframe\">\n",
       "  <thead>\n",
       "    <tr style=\"text-align: right;\">\n",
       "      <th></th>\n",
       "      <th>app_code</th>\n",
       "      <th>is_4G</th>\n",
       "      <th>impression_day</th>\n",
       "      <th>impression_month</th>\n",
       "      <th>impression_week</th>\n",
       "      <th>impression_day_week</th>\n",
       "      <th>impression_hour</th>\n",
       "      <th>impression_minute</th>\n",
       "      <th>session_count</th>\n",
       "      <th>unique_session</th>\n",
       "      <th>unique_item</th>\n",
       "      <th>item_price</th>\n",
       "      <th>category_1</th>\n",
       "      <th>category_2</th>\n",
       "      <th>category_3</th>\n",
       "      <th>product_type</th>\n",
       "    </tr>\n",
       "  </thead>\n",
       "  <tbody>\n",
       "    <tr>\n",
       "      <th>231472</th>\n",
       "      <td>207</td>\n",
       "      <td>1</td>\n",
       "      <td>13</td>\n",
       "      <td>12</td>\n",
       "      <td>50</td>\n",
       "      <td>3</td>\n",
       "      <td>7</td>\n",
       "      <td>40</td>\n",
       "      <td>134</td>\n",
       "      <td>18</td>\n",
       "      <td>18</td>\n",
       "      <td>6400.0</td>\n",
       "      <td>14.0</td>\n",
       "      <td>61.0</td>\n",
       "      <td>132.0</td>\n",
       "      <td>9842.0</td>\n",
       "    </tr>\n",
       "    <tr>\n",
       "      <th>231473</th>\n",
       "      <td>207</td>\n",
       "      <td>0</td>\n",
       "      <td>13</td>\n",
       "      <td>12</td>\n",
       "      <td>50</td>\n",
       "      <td>3</td>\n",
       "      <td>7</td>\n",
       "      <td>41</td>\n",
       "      <td>94</td>\n",
       "      <td>24</td>\n",
       "      <td>24</td>\n",
       "      <td>21696.0</td>\n",
       "      <td>1.0</td>\n",
       "      <td>7.0</td>\n",
       "      <td>308.0</td>\n",
       "      <td>4986.0</td>\n",
       "    </tr>\n",
       "    <tr>\n",
       "      <th>231474</th>\n",
       "      <td>289</td>\n",
       "      <td>0</td>\n",
       "      <td>13</td>\n",
       "      <td>12</td>\n",
       "      <td>50</td>\n",
       "      <td>3</td>\n",
       "      <td>7</td>\n",
       "      <td>42</td>\n",
       "      <td>1</td>\n",
       "      <td>1</td>\n",
       "      <td>1</td>\n",
       "      <td>844.0</td>\n",
       "      <td>11.0</td>\n",
       "      <td>70.0</td>\n",
       "      <td>322.0</td>\n",
       "      <td>4129.0</td>\n",
       "    </tr>\n",
       "    <tr>\n",
       "      <th>231475</th>\n",
       "      <td>335</td>\n",
       "      <td>1</td>\n",
       "      <td>13</td>\n",
       "      <td>12</td>\n",
       "      <td>50</td>\n",
       "      <td>3</td>\n",
       "      <td>7</td>\n",
       "      <td>43</td>\n",
       "      <td>84</td>\n",
       "      <td>24</td>\n",
       "      <td>24</td>\n",
       "      <td>18115.0</td>\n",
       "      <td>8.0</td>\n",
       "      <td>40.0</td>\n",
       "      <td>84.0</td>\n",
       "      <td>5036.0</td>\n",
       "    </tr>\n",
       "    <tr>\n",
       "      <th>231476</th>\n",
       "      <td>384</td>\n",
       "      <td>0</td>\n",
       "      <td>13</td>\n",
       "      <td>12</td>\n",
       "      <td>50</td>\n",
       "      <td>3</td>\n",
       "      <td>7</td>\n",
       "      <td>43</td>\n",
       "      <td>120</td>\n",
       "      <td>37</td>\n",
       "      <td>37</td>\n",
       "      <td>3955.0</td>\n",
       "      <td>4.0</td>\n",
       "      <td>38.0</td>\n",
       "      <td>62.0</td>\n",
       "      <td>8121.0</td>\n",
       "    </tr>\n",
       "  </tbody>\n",
       "</table>\n",
       "</div>"
      ],
      "text/plain": [
       "        app_code  is_4G  impression_day  impression_month  impression_week  \\\n",
       "231472       207      1              13                12               50   \n",
       "231473       207      0              13                12               50   \n",
       "231474       289      0              13                12               50   \n",
       "231475       335      1              13                12               50   \n",
       "231476       384      0              13                12               50   \n",
       "\n",
       "        impression_day_week  impression_hour  impression_minute  \\\n",
       "231472                    3                7                 40   \n",
       "231473                    3                7                 41   \n",
       "231474                    3                7                 42   \n",
       "231475                    3                7                 43   \n",
       "231476                    3                7                 43   \n",
       "\n",
       "        session_count  unique_session  unique_item  item_price  category_1  \\\n",
       "231472            134              18           18      6400.0        14.0   \n",
       "231473             94              24           24     21696.0         1.0   \n",
       "231474              1               1            1       844.0        11.0   \n",
       "231475             84              24           24     18115.0         8.0   \n",
       "231476            120              37           37      3955.0         4.0   \n",
       "\n",
       "        category_2  category_3  product_type  \n",
       "231472        61.0       132.0        9842.0  \n",
       "231473         7.0       308.0        4986.0  \n",
       "231474        70.0       322.0        4129.0  \n",
       "231475        40.0        84.0        5036.0  \n",
       "231476        38.0        62.0        8121.0  "
      ]
     },
     "execution_count": 167,
     "metadata": {},
     "output_type": "execute_result"
    }
   ],
   "source": [
    "_df1.tail()"
   ]
  },
  {
   "cell_type": "code",
   "execution_count": 166,
   "metadata": {},
   "outputs": [
    {
     "data": {
      "text/plain": [
       "231472    0.0\n",
       "231473    0.0\n",
       "231474    0.0\n",
       "231475    0.0\n",
       "231476    1.0\n",
       "Name: is_click_x, dtype: float64"
      ]
     },
     "execution_count": 166,
     "metadata": {},
     "output_type": "execute_result"
    }
   ],
   "source": [
    "_train_labels.tail()"
   ]
  },
  {
   "cell_type": "code",
   "execution_count": 146,
   "metadata": {},
   "outputs": [],
   "source": [
    "# X_train, X_test, y_train, y_test = train_test_split(df1, _train_labels,\n",
    "#                                                     stratify=_train_labels,\n",
    "#                                                     test_size=0.10,\n",
    "#                                                     random_state=1234)"
   ]
  },
  {
   "cell_type": "code",
   "execution_count": 147,
   "metadata": {},
   "outputs": [],
   "source": [
    "# X_train.columns"
   ]
  },
  {
   "cell_type": "code",
   "execution_count": 203,
   "metadata": {},
   "outputs": [],
   "source": [
    "params = {\n",
    "        'learning_rate':[0.02, 0.05, 0.07, 0.1],\n",
    "        'min_child_weight': [3, 5, 7, 10],\n",
    "        'gamma': [0.2, 0.5, 1, 1.5, 2],\n",
    "        'subsample': [0.6, 0.8, 1.0],\n",
    "        'colsample_bytree': [0.6, 0.8, 1.0],\n",
    "        'max_depth': [3, 4, 5, 7]\n",
    "        }"
   ]
  },
  {
   "cell_type": "code",
   "execution_count": 204,
   "metadata": {},
   "outputs": [],
   "source": [
    "# alg = xgb.XGBClassifier(learning_rate=0.1,\n",
    "#                         n_estimators=140,\n",
    "#                         max_depth=7,\n",
    "#                         min_child_weight=3,\n",
    "#                         gamma=0.2,\n",
    "#                         subsample=0.6,\n",
    "#                         colsample_bytree=1.0,\n",
    "#                         objective='binary:logistic',\n",
    "#                         nthread=4,\n",
    "#                         scale_pos_weight=1,\n",
    "#                         seed=27)\n",
    "clf = xgb.XGBClassifier(n_estimators=600, objective='binary:logistic',\n",
    "                    silent=True, nthread=2)"
   ]
  },
  {
   "cell_type": "code",
   "execution_count": 205,
   "metadata": {},
   "outputs": [
    {
     "name": "stdout",
     "output_type": "stream",
     "text": [
      "Fitting 3 folds for each of 5 candidates, totalling 15 fits\n"
     ]
    },
    {
     "name": "stderr",
     "output_type": "stream",
     "text": [
      "[Parallel(n_jobs=4)]: Using backend LokyBackend with 4 concurrent workers.\n",
      "[Parallel(n_jobs=4)]: Done  15 out of  15 | elapsed:  9.6min finished\n"
     ]
    },
    {
     "name": "stdout",
     "output_type": "stream",
     "text": [
      "\n",
      " Time taken: 0 hours 10 minutes and 41.3 seconds.\n"
     ]
    }
   ],
   "source": [
    "folds = 3\n",
    "param_comb = 5\n",
    "\n",
    "skf = StratifiedKFold(n_splits=folds, shuffle = True, random_state = 1001)\n",
    "\n",
    "random_search = RandomizedSearchCV(clf, param_distributions=params, n_iter=param_comb,\n",
    "                                   scoring='roc_auc', n_jobs=4, cv=skf.split(_df1,_train_labels),\n",
    "                                   verbose=3, random_state=1001 )\n",
    "\n",
    "# Here we go\n",
    "start_time = timer(None) # timing starts from this point for \"start_time\" variable\n",
    "random_search.fit(_df1, _train_labels)\n",
    "timer(start_time)"
   ]
  },
  {
   "cell_type": "code",
   "execution_count": 206,
   "metadata": {
    "scrolled": true
   },
   "outputs": [
    {
     "name": "stdout",
     "output_type": "stream",
     "text": [
      "{'subsample': 0.8, 'min_child_weight': 3, 'max_depth': 4, 'learning_rate': 0.05, 'gamma': 0.5, 'colsample_bytree': 0.8}\n"
     ]
    }
   ],
   "source": [
    "print(random_search.best_params_)"
   ]
  },
  {
   "cell_type": "code",
   "execution_count": 207,
   "metadata": {},
   "outputs": [],
   "source": [
    "# print(random_search.cv_results_)"
   ]
  },
  {
   "cell_type": "code",
   "execution_count": 208,
   "metadata": {},
   "outputs": [],
   "source": [
    "# cv_folds=10\n",
    "# xgb_param = alg.get_xgb_params()\n",
    "# xgtrain = xgb.DMatrix(X_train.values, label=y_train.values)\n",
    "# # xgtest = xgb.DMatrix(X_test.values, label=y_test.values)\n",
    "# cvresult = xgb.cv(xgb_param, xgtrain, num_boost_round=alg.get_params()['n_estimators'], nfold=cv_folds,\n",
    "#                           early_stopping_rounds=50)\n",
    "# alg.set_params(n_estimators=cvresult.shape[0])\n",
    "# alg.fit(X_train, y_train,verbose=True, eval_metric='auc')"
   ]
  },
  {
   "cell_type": "code",
   "execution_count": 209,
   "metadata": {},
   "outputs": [],
   "source": [
    "# val_pred = alg.predict_proba(X_test)[:, 1]\n",
    "# roc_auc_score(y_test,val_pred)"
   ]
  },
  {
   "cell_type": "code",
   "execution_count": 210,
   "metadata": {},
   "outputs": [],
   "source": [
    "tuned_clf = xgb.XGBClassifier(learning_rate=0.05,\n",
    "                        n_estimators=600,\n",
    "                        max_depth=4,\n",
    "                        min_child_weight=3,\n",
    "                        gamma=0.5,\n",
    "                        subsample=0.8,\n",
    "                        colsample_bytree=0.8,\n",
    "                        objective='binary:logistic',\n",
    "                        nthread=4,\n",
    "                        scale_pos_weight=1,\n",
    "                        seed=27)"
   ]
  },
  {
   "cell_type": "code",
   "execution_count": 211,
   "metadata": {},
   "outputs": [
    {
     "data": {
      "text/plain": [
       "XGBClassifier(base_score=0.5, booster='gbtree', colsample_bylevel=1,\n",
       "       colsample_bytree=0.8, gamma=0.5, learning_rate=0.05,\n",
       "       max_delta_step=0, max_depth=4, min_child_weight=3, missing=None,\n",
       "       n_estimators=600, n_jobs=1, nthread=4, objective='binary:logistic',\n",
       "       random_state=0, reg_alpha=0, reg_lambda=1, scale_pos_weight=1,\n",
       "       seed=27, silent=True, subsample=0.8)"
      ]
     },
     "execution_count": 211,
     "metadata": {},
     "output_type": "execute_result"
    }
   ],
   "source": [
    "#Train on entire data\n",
    "# cv_folds=10\n",
    "# xgb_param = alg.get_xgb_params()\n",
    "# xgtrain = xgb.DMatrix(train_df.values, label=train_labels.values)\n",
    "# # xgtest = xgb.DMatrix(X_test.values, label=y_test.values)\n",
    "# cvresult = xgb.cv(xgb_param, xgtrain, num_boost_round=alg.get_params()['n_estimators'], nfold=cv_folds,\n",
    "#                           early_stopping_rounds=50)\n",
    "# alg.set_params(n_estimators=cvresult.shape[0])\n",
    "tuned_clf.fit(_df1, _train_labels,verbose=True, eval_metric='auc')"
   ]
  },
  {
   "cell_type": "code",
   "execution_count": 212,
   "metadata": {},
   "outputs": [
    {
     "data": {
      "text/plain": [
       "(90373,)"
      ]
     },
     "execution_count": 212,
     "metadata": {},
     "output_type": "execute_result"
    }
   ],
   "source": [
    "pred = tuned_clf.predict_proba(_df2)[:,1]\n",
    "pred.shape"
   ]
  },
  {
   "cell_type": "code",
   "execution_count": 213,
   "metadata": {},
   "outputs": [
    {
     "data": {
      "text/plain": [
       "0.04552915"
      ]
     },
     "execution_count": 213,
     "metadata": {},
     "output_type": "execute_result"
    }
   ],
   "source": [
    "pred.mean()"
   ]
  },
  {
   "cell_type": "code",
   "execution_count": 214,
   "metadata": {},
   "outputs": [
    {
     "data": {
      "text/plain": [
       "(90373, 22)"
      ]
     },
     "execution_count": 214,
     "metadata": {},
     "output_type": "execute_result"
    }
   ],
   "source": [
    "df2.shape"
   ]
  },
  {
   "cell_type": "code",
   "execution_count": 215,
   "metadata": {},
   "outputs": [
    {
     "data": {
      "text/plain": [
       "(90675,)"
      ]
     },
     "execution_count": 215,
     "metadata": {},
     "output_type": "execute_result"
    }
   ],
   "source": [
    "impr_id.shape"
   ]
  },
  {
   "cell_type": "code",
   "execution_count": 216,
   "metadata": {},
   "outputs": [],
   "source": [
    "sub_df = pd.DataFrame(list(zip(df2.impression_id,pred)), columns=[\"impression_id\", \"is_click\"])"
   ]
  },
  {
   "cell_type": "code",
   "execution_count": 217,
   "metadata": {},
   "outputs": [],
   "source": [
    "df_with_missing_impr_id = pd.DataFrame(id_not_present_in_test, columns=[\"impression_id\"])\n",
    "df_with_missing_impr_id[\"is_click\"] = 0.04552915"
   ]
  },
  {
   "cell_type": "code",
   "execution_count": 218,
   "metadata": {},
   "outputs": [
    {
     "data": {
      "text/plain": [
       "(302, 2)"
      ]
     },
     "execution_count": 218,
     "metadata": {},
     "output_type": "execute_result"
    }
   ],
   "source": [
    "df_with_missing_impr_id.shape"
   ]
  },
  {
   "cell_type": "code",
   "execution_count": 219,
   "metadata": {},
   "outputs": [],
   "source": [
    "_sub_df = sub_df.append(df_with_missing_impr_id)"
   ]
  },
  {
   "cell_type": "code",
   "execution_count": 220,
   "metadata": {},
   "outputs": [
    {
     "data": {
      "text/plain": [
       "(90675, 2)"
      ]
     },
     "execution_count": 220,
     "metadata": {},
     "output_type": "execute_result"
    }
   ],
   "source": [
    "_sub_df.shape"
   ]
  },
  {
   "cell_type": "code",
   "execution_count": 221,
   "metadata": {},
   "outputs": [],
   "source": [
    "_sub_df.to_csv(\"sub_15.csv\", index=False)"
   ]
  },
  {
   "cell_type": "code",
   "execution_count": null,
   "metadata": {},
   "outputs": [],
   "source": []
  }
 ],
 "metadata": {
  "kernelspec": {
   "display_name": "Python 3",
   "language": "python",
   "name": "python3"
  },
  "language_info": {
   "codemirror_mode": {
    "name": "ipython",
    "version": 3
   },
   "file_extension": ".py",
   "mimetype": "text/x-python",
   "name": "python",
   "nbconvert_exporter": "python",
   "pygments_lexer": "ipython3",
   "version": "3.6.7"
  }
 },
 "nbformat": 4,
 "nbformat_minor": 2
}
