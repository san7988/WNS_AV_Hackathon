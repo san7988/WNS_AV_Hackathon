{
 "cells": [
  {
   "cell_type": "code",
   "execution_count": 1,
   "metadata": {},
   "outputs": [],
   "source": [
    "import pandas as pd\n",
    "from sklearn.metrics import roc_auc_score\n",
    "from sklearn.model_selection import train_test_split\n",
    "import xgboost as xgb\n",
    "from sklearn.preprocessing import LabelEncoder"
   ]
  },
  {
   "cell_type": "code",
   "execution_count": 2,
   "metadata": {},
   "outputs": [],
   "source": [
    "train_df = pd.read_csv(\"./train.csv\")"
   ]
  },
  {
   "cell_type": "code",
   "execution_count": 3,
   "metadata": {},
   "outputs": [],
   "source": [
    "log_df = pd.read_csv(\"./view_log.csv\")"
   ]
  },
  {
   "cell_type": "code",
   "execution_count": 4,
   "metadata": {},
   "outputs": [],
   "source": [
    "item_df = pd.read_csv(\"./item_data.csv\")"
   ]
  },
  {
   "cell_type": "code",
   "execution_count": 5,
   "metadata": {},
   "outputs": [],
   "source": [
    "test_df = pd.read_csv(\"./test.csv\")"
   ]
  },
  {
   "cell_type": "code",
   "execution_count": 6,
   "metadata": {},
   "outputs": [],
   "source": [
    "impr_id = test_df[\"impression_id\"]"
   ]
  },
  {
   "cell_type": "code",
   "execution_count": 7,
   "metadata": {},
   "outputs": [
    {
     "data": {
      "text/plain": [
       "(Index(['impression_id', 'impression_time', 'user_id', 'app_code', 'os_version',\n",
       "        'is_4G', 'is_click'],\n",
       "       dtype='object'),\n",
       " Index(['server_time', 'device_type', 'session_id', 'user_id', 'item_id'], dtype='object'),\n",
       " Index(['item_id', 'item_price', 'category_1', 'category_2', 'category_3',\n",
       "        'product_type'],\n",
       "       dtype='object'))"
      ]
     },
     "execution_count": 7,
     "metadata": {},
     "output_type": "execute_result"
    }
   ],
   "source": [
    "train_df.columns, log_df.columns, item_df.columns"
   ]
  },
  {
   "cell_type": "code",
   "execution_count": 7,
   "metadata": {},
   "outputs": [],
   "source": [
    "gb = log_df.groupby(\"user_id\").size().reset_index().rename(columns={0:'count'})\n",
    "def get_session_count(x):\n",
    "    #print(x)\n",
    "    _x = list(gb[gb[\"user_id\"]==x][\"count\"])[0]\n",
    "    return _x"
   ]
  },
  {
   "cell_type": "code",
   "execution_count": 8,
   "metadata": {},
   "outputs": [],
   "source": [
    "train_labels = train_df[\"is_click\"]\n",
    "del train_df[\"is_click\"]"
   ]
  },
  {
   "cell_type": "code",
   "execution_count": 9,
   "metadata": {},
   "outputs": [
    {
     "data": {
      "text/plain": [
       "((328284, 6), (237609, 6), (90675, 6))"
      ]
     },
     "execution_count": 9,
     "metadata": {},
     "output_type": "execute_result"
    }
   ],
   "source": [
    "merged_df = pd.concat([train_df, test_df], axis=0)\n",
    "merged_df.shape, train_df.shape, test_df.shape"
   ]
  },
  {
   "cell_type": "code",
   "execution_count": 10,
   "metadata": {},
   "outputs": [],
   "source": [
    "merged_df[\"impression_time\"] = pd.to_datetime(merged_df[\"impression_time\"])\n",
    "merged_df[\"impression_day\"] = merged_df[\"impression_time\"].dt.day\n",
    "merged_df[\"impression_month\"] = merged_df[\"impression_time\"].dt.month\n",
    "# merged_df[\"impression_year\"] = merged_df[\"impression_time\"].dt.year\n",
    "merged_df[\"impression_week\"] = merged_df[\"impression_time\"].dt.week\n",
    "merged_df[\"impression_day_week\"] = merged_df[\"impression_time\"].dt.dayofweek\n",
    "merged_df[\"impression_hour\"] = merged_df[\"impression_time\"].dt.hour\n",
    "merged_df[\"impression_minute\"] = merged_df[\"impression_time\"].dt.minute"
   ]
  },
  {
   "cell_type": "code",
   "execution_count": 11,
   "metadata": {},
   "outputs": [],
   "source": [
    "le = LabelEncoder()\n",
    "merged_df[\"app_code\"] = le.fit_transform(merged_df[\"app_code\"])\n",
    "merged_df[\"os_version\"] = le.fit_transform(merged_df[\"os_version\"])"
   ]
  },
  {
   "cell_type": "code",
   "execution_count": 12,
   "metadata": {},
   "outputs": [
    {
     "name": "stdout",
     "output_type": "stream",
     "text": [
      "CPU times: user 2 µs, sys: 0 ns, total: 2 µs\n",
      "Wall time: 8.11 µs\n"
     ]
    }
   ],
   "source": [
    "%time\n",
    "merged_df[\"session_count\"] = merged_df[\"user_id\"].apply(lambda x: get_session_count(x))"
   ]
  },
  {
   "cell_type": "code",
   "execution_count": 13,
   "metadata": {},
   "outputs": [],
   "source": [
    "del merged_df[\"impression_id\"]\n",
    "del merged_df[\"impression_time\"]\n",
    "del merged_df[\"user_id\"]"
   ]
  },
  {
   "cell_type": "code",
   "execution_count": 15,
   "metadata": {},
   "outputs": [
    {
     "data": {
      "text/plain": [
       "((237609, 10), (90675, 10), (237609,))"
      ]
     },
     "execution_count": 15,
     "metadata": {},
     "output_type": "execute_result"
    }
   ],
   "source": [
    "train_df = merged_df.iloc[:train_df.shape[0],:]\n",
    "test_df = merged_df.iloc[train_df.shape[0]:,:]\n",
    "train_df.shape, test_df.shape, train_labels.shape"
   ]
  },
  {
   "cell_type": "code",
   "execution_count": 16,
   "metadata": {},
   "outputs": [],
   "source": [
    "X_train, X_test, y_train, y_test = train_test_split(train_df, train_labels,\n",
    "                                                    stratify=train_labels,\n",
    "                                                    test_size=0.15,\n",
    "                                                    random_state=1234)"
   ]
  },
  {
   "cell_type": "code",
   "execution_count": null,
   "metadata": {},
   "outputs": [],
   "source": [
    "X_train.columns"
   ]
  },
  {
   "cell_type": "code",
   "execution_count": 17,
   "metadata": {},
   "outputs": [],
   "source": [
    "alg = xgb.XGBClassifier(learning_rate=0.1,\n",
    "                        n_estimators=140,\n",
    "                        max_depth=7,\n",
    "                        min_child_weight=3,\n",
    "                        gamma=0.2,\n",
    "                        subsample=0.6,\n",
    "                        colsample_bytree=1.0,\n",
    "                        objective='binary:logistic',\n",
    "                        nthread=4,\n",
    "                        scale_pos_weight=1,\n",
    "                        seed=27)"
   ]
  },
  {
   "cell_type": "code",
   "execution_count": 18,
   "metadata": {},
   "outputs": [
    {
     "data": {
      "text/plain": [
       "XGBClassifier(base_score=0.5, booster='gbtree', colsample_bylevel=1,\n",
       "       colsample_bytree=1.0, gamma=0.2, learning_rate=0.1,\n",
       "       max_delta_step=0, max_depth=7, min_child_weight=3, missing=None,\n",
       "       n_estimators=2, n_jobs=1, nthread=4, objective='binary:logistic',\n",
       "       random_state=0, reg_alpha=0, reg_lambda=1, scale_pos_weight=1,\n",
       "       seed=27, silent=True, subsample=0.6)"
      ]
     },
     "execution_count": 18,
     "metadata": {},
     "output_type": "execute_result"
    }
   ],
   "source": [
    "cv_folds=10\n",
    "xgb_param = alg.get_xgb_params()\n",
    "xgtrain = xgb.DMatrix(X_train.values, label=y_train.values)\n",
    "# xgtest = xgb.DMatrix(X_test.values, label=y_test.values)\n",
    "cvresult = xgb.cv(xgb_param, xgtrain, num_boost_round=alg.get_params()['n_estimators'], nfold=cv_folds,\n",
    "                          early_stopping_rounds=50)\n",
    "alg.set_params(n_estimators=cvresult.shape[0])\n",
    "alg.fit(X_train, y_train,verbose=True, eval_metric='auc')"
   ]
  },
  {
   "cell_type": "code",
   "execution_count": 19,
   "metadata": {},
   "outputs": [
    {
     "data": {
      "text/plain": [
       "0.6829390531843915"
      ]
     },
     "execution_count": 19,
     "metadata": {},
     "output_type": "execute_result"
    }
   ],
   "source": [
    "val_pred = alg.predict_proba(X_test)[:, 1]\n",
    "roc_auc_score(y_test,val_pred)"
   ]
  },
  {
   "cell_type": "code",
   "execution_count": 20,
   "metadata": {},
   "outputs": [],
   "source": [
    "alg = xgb.XGBClassifier(learning_rate=0.1,\n",
    "                        n_estimators=140,\n",
    "                        max_depth=7,\n",
    "                        min_child_weight=3,\n",
    "                        gamma=0.2,\n",
    "                        subsample=0.6,\n",
    "                        colsample_bytree=1.0,\n",
    "                        objective='binary:logistic',\n",
    "                        nthread=4,\n",
    "                        scale_pos_weight=1,\n",
    "                        seed=27)"
   ]
  },
  {
   "cell_type": "code",
   "execution_count": 21,
   "metadata": {},
   "outputs": [
    {
     "data": {
      "text/plain": [
       "XGBClassifier(base_score=0.5, booster='gbtree', colsample_bylevel=1,\n",
       "       colsample_bytree=1.0, gamma=0.2, learning_rate=0.1,\n",
       "       max_delta_step=0, max_depth=7, min_child_weight=3, missing=None,\n",
       "       n_estimators=3, n_jobs=1, nthread=4, objective='binary:logistic',\n",
       "       random_state=0, reg_alpha=0, reg_lambda=1, scale_pos_weight=1,\n",
       "       seed=27, silent=True, subsample=0.6)"
      ]
     },
     "execution_count": 21,
     "metadata": {},
     "output_type": "execute_result"
    }
   ],
   "source": [
    "#Train on entire data\n",
    "cv_folds=10\n",
    "xgb_param = alg.get_xgb_params()\n",
    "xgtrain = xgb.DMatrix(train_df.values, label=train_labels.values)\n",
    "# xgtest = xgb.DMatrix(X_test.values, label=y_test.values)\n",
    "cvresult = xgb.cv(xgb_param, xgtrain, num_boost_round=alg.get_params()['n_estimators'], nfold=cv_folds,\n",
    "                          early_stopping_rounds=50)\n",
    "alg.set_params(n_estimators=cvresult.shape[0])\n",
    "alg.fit(train_df, train_labels,verbose=True, eval_metric='auc')"
   ]
  },
  {
   "cell_type": "code",
   "execution_count": 22,
   "metadata": {},
   "outputs": [
    {
     "data": {
      "text/plain": [
       "(90675,)"
      ]
     },
     "execution_count": 22,
     "metadata": {},
     "output_type": "execute_result"
    }
   ],
   "source": [
    "pred = alg.predict_proba(test_df)[:,1]\n",
    "pred.shape"
   ]
  },
  {
   "cell_type": "code",
   "execution_count": 25,
   "metadata": {},
   "outputs": [
    {
     "data": {
      "text/plain": [
       "(90675,)"
      ]
     },
     "execution_count": 25,
     "metadata": {},
     "output_type": "execute_result"
    }
   ],
   "source": [
    "impr_id.shape"
   ]
  },
  {
   "cell_type": "code",
   "execution_count": 26,
   "metadata": {},
   "outputs": [],
   "source": [
    "sub_df = pd.DataFrame(list(zip(impr_id,pred)), columns=[\"impression_id\", \"is_click\"])"
   ]
  },
  {
   "cell_type": "code",
   "execution_count": 27,
   "metadata": {},
   "outputs": [],
   "source": [
    "sub_df.to_csv(\"sub_05.csv\", index=False)"
   ]
  },
  {
   "cell_type": "code",
   "execution_count": null,
   "metadata": {},
   "outputs": [],
   "source": []
  }
 ],
 "metadata": {
  "kernelspec": {
   "display_name": "Python 3",
   "language": "python",
   "name": "python3"
  },
  "language_info": {
   "codemirror_mode": {
    "name": "ipython",
    "version": 3
   },
   "file_extension": ".py",
   "mimetype": "text/x-python",
   "name": "python",
   "nbconvert_exporter": "python",
   "pygments_lexer": "ipython3",
   "version": "3.6.7"
  }
 },
 "nbformat": 4,
 "nbformat_minor": 2
}
